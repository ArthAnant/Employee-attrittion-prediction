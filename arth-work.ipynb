{
 "cells": [
  {
   "cell_type": "code",
   "execution_count": 1,
   "id": "5da41db0",
   "metadata": {
    "_cell_guid": "28f6cc99-0995-475e-8c8a-e43d945ed08d",
    "_uuid": "6048951d-62c6-4d43-8fb0-63412022efc7",
    "collapsed": false,
    "execution": {
     "iopub.execute_input": "2022-05-30T12:50:07.932226Z",
     "iopub.status.busy": "2022-05-30T12:50:07.931574Z",
     "iopub.status.idle": "2022-05-30T12:50:07.953204Z",
     "shell.execute_reply": "2022-05-30T12:50:07.952069Z"
    },
    "jupyter": {
     "outputs_hidden": false
    },
    "papermill": {
     "duration": 0.044646,
     "end_time": "2022-05-30T12:50:07.955991",
     "exception": false,
     "start_time": "2022-05-30T12:50:07.911345",
     "status": "completed"
    },
    "tags": []
   },
   "outputs": [
    {
     "name": "stdout",
     "output_type": "stream",
     "text": [
      "/kaggle/input/ibm-hr-analytics-attrition-dataset/WA_Fn-UseC_-HR-Employee-Attrition.csv\n"
     ]
    }
   ],
   "source": [
    "# This Python 3 environment comes with many helpful analytics libraries installed\n",
    "# It is defined by the kaggle/python Docker image: https://github.com/kaggle/docker-python\n",
    "# For example, here's several helpful packages to load\n",
    "import numpy as np # linear algebra\n",
    "import pandas as pd # data processing, CSV file I/O (e.g. pd.read_csv)\n",
    "\n",
    "# Input data files are available in the read-only \"../input/\" directory\n",
    "# For example, running this (by clicking run or pressing Shift+Enter) will list all files under the input directory\n",
    "\n",
    "import os\n",
    "for dirname, _, filenames in os.walk('/kaggle/input'):\n",
    "    for filename in filenames:\n",
    "        print(os.path.join(dirname, filename))\n",
    "\n",
    "# You can write up to 20GB to the current directory (/kaggle/working/) that gets preserved as output when you create a version using \"Save & Run All\" \n",
    "# You can also write temporary files to /kaggle/temp/, but they won't be saved outside of the current session"
   ]
  },
  {
   "cell_type": "code",
   "execution_count": 2,
   "id": "878f8104",
   "metadata": {
    "_cell_guid": "0fd922bc-a130-48f4-9728-850e1ee400f2",
    "_uuid": "ac609238-50a3-4516-9ceb-3c833de4d96d",
    "collapsed": false,
    "execution": {
     "iopub.execute_input": "2022-05-30T12:50:07.991990Z",
     "iopub.status.busy": "2022-05-30T12:50:07.990935Z",
     "iopub.status.idle": "2022-05-30T12:50:09.327191Z",
     "shell.execute_reply": "2022-05-30T12:50:09.326038Z"
    },
    "jupyter": {
     "outputs_hidden": false
    },
    "papermill": {
     "duration": 1.357307,
     "end_time": "2022-05-30T12:50:09.329689",
     "exception": false,
     "start_time": "2022-05-30T12:50:07.972382",
     "status": "completed"
    },
    "tags": []
   },
   "outputs": [],
   "source": [
    "import matplotlib.pyplot as plt\n",
    "import seaborn as sns"
   ]
  },
  {
   "cell_type": "code",
   "execution_count": 3,
   "id": "2e35623a",
   "metadata": {
    "_cell_guid": "5885258f-4caa-422d-8430-1538f88ba93c",
    "_uuid": "bf9b3b63-73a7-4d17-bcba-0bf53f96a431",
    "collapsed": false,
    "execution": {
     "iopub.execute_input": "2022-05-30T12:50:09.363472Z",
     "iopub.status.busy": "2022-05-30T12:50:09.363046Z",
     "iopub.status.idle": "2022-05-30T12:50:10.735356Z",
     "shell.execute_reply": "2022-05-30T12:50:10.734302Z"
    },
    "jupyter": {
     "outputs_hidden": false
    },
    "papermill": {
     "duration": 1.392735,
     "end_time": "2022-05-30T12:50:10.737948",
     "exception": false,
     "start_time": "2022-05-30T12:50:09.345213",
     "status": "completed"
    },
    "tags": []
   },
   "outputs": [],
   "source": [
    "import plotly.express as px"
   ]
  },
  {
   "cell_type": "code",
   "execution_count": 4,
   "id": "3b31aeff",
   "metadata": {
    "_cell_guid": "66cb5890-5549-4362-826f-99c5bf52c727",
    "_uuid": "5f996078-64de-46fb-9dcb-842d9a746cad",
    "collapsed": false,
    "execution": {
     "iopub.execute_input": "2022-05-30T12:50:10.772578Z",
     "iopub.status.busy": "2022-05-30T12:50:10.771995Z",
     "iopub.status.idle": "2022-05-30T12:50:10.839315Z",
     "shell.execute_reply": "2022-05-30T12:50:10.838198Z"
    },
    "jupyter": {
     "outputs_hidden": false
    },
    "papermill": {
     "duration": 0.087544,
     "end_time": "2022-05-30T12:50:10.841766",
     "exception": false,
     "start_time": "2022-05-30T12:50:10.754222",
     "status": "completed"
    },
    "tags": []
   },
   "outputs": [
    {
     "data": {
      "text/html": [
       "<div>\n",
       "<style scoped>\n",
       "    .dataframe tbody tr th:only-of-type {\n",
       "        vertical-align: middle;\n",
       "    }\n",
       "\n",
       "    .dataframe tbody tr th {\n",
       "        vertical-align: top;\n",
       "    }\n",
       "\n",
       "    .dataframe thead th {\n",
       "        text-align: right;\n",
       "    }\n",
       "</style>\n",
       "<table border=\"1\" class=\"dataframe\">\n",
       "  <thead>\n",
       "    <tr style=\"text-align: right;\">\n",
       "      <th></th>\n",
       "      <th>Age</th>\n",
       "      <th>Attrition</th>\n",
       "      <th>BusinessTravel</th>\n",
       "      <th>DailyRate</th>\n",
       "      <th>Department</th>\n",
       "      <th>DistanceFromHome</th>\n",
       "      <th>Education</th>\n",
       "      <th>EducationField</th>\n",
       "      <th>EmployeeCount</th>\n",
       "      <th>EmployeeNumber</th>\n",
       "      <th>...</th>\n",
       "      <th>RelationshipSatisfaction</th>\n",
       "      <th>StandardHours</th>\n",
       "      <th>StockOptionLevel</th>\n",
       "      <th>TotalWorkingYears</th>\n",
       "      <th>TrainingTimesLastYear</th>\n",
       "      <th>WorkLifeBalance</th>\n",
       "      <th>YearsAtCompany</th>\n",
       "      <th>YearsInCurrentRole</th>\n",
       "      <th>YearsSinceLastPromotion</th>\n",
       "      <th>YearsWithCurrManager</th>\n",
       "    </tr>\n",
       "  </thead>\n",
       "  <tbody>\n",
       "    <tr>\n",
       "      <th>0</th>\n",
       "      <td>41</td>\n",
       "      <td>Yes</td>\n",
       "      <td>Travel_Rarely</td>\n",
       "      <td>1102</td>\n",
       "      <td>Sales</td>\n",
       "      <td>1</td>\n",
       "      <td>2</td>\n",
       "      <td>Life Sciences</td>\n",
       "      <td>1</td>\n",
       "      <td>1</td>\n",
       "      <td>...</td>\n",
       "      <td>1</td>\n",
       "      <td>80</td>\n",
       "      <td>0</td>\n",
       "      <td>8</td>\n",
       "      <td>0</td>\n",
       "      <td>1</td>\n",
       "      <td>6</td>\n",
       "      <td>4</td>\n",
       "      <td>0</td>\n",
       "      <td>5</td>\n",
       "    </tr>\n",
       "    <tr>\n",
       "      <th>1</th>\n",
       "      <td>49</td>\n",
       "      <td>No</td>\n",
       "      <td>Travel_Frequently</td>\n",
       "      <td>279</td>\n",
       "      <td>Research &amp; Development</td>\n",
       "      <td>8</td>\n",
       "      <td>1</td>\n",
       "      <td>Life Sciences</td>\n",
       "      <td>1</td>\n",
       "      <td>2</td>\n",
       "      <td>...</td>\n",
       "      <td>4</td>\n",
       "      <td>80</td>\n",
       "      <td>1</td>\n",
       "      <td>10</td>\n",
       "      <td>3</td>\n",
       "      <td>3</td>\n",
       "      <td>10</td>\n",
       "      <td>7</td>\n",
       "      <td>1</td>\n",
       "      <td>7</td>\n",
       "    </tr>\n",
       "    <tr>\n",
       "      <th>2</th>\n",
       "      <td>37</td>\n",
       "      <td>Yes</td>\n",
       "      <td>Travel_Rarely</td>\n",
       "      <td>1373</td>\n",
       "      <td>Research &amp; Development</td>\n",
       "      <td>2</td>\n",
       "      <td>2</td>\n",
       "      <td>Other</td>\n",
       "      <td>1</td>\n",
       "      <td>4</td>\n",
       "      <td>...</td>\n",
       "      <td>2</td>\n",
       "      <td>80</td>\n",
       "      <td>0</td>\n",
       "      <td>7</td>\n",
       "      <td>3</td>\n",
       "      <td>3</td>\n",
       "      <td>0</td>\n",
       "      <td>0</td>\n",
       "      <td>0</td>\n",
       "      <td>0</td>\n",
       "    </tr>\n",
       "    <tr>\n",
       "      <th>3</th>\n",
       "      <td>33</td>\n",
       "      <td>No</td>\n",
       "      <td>Travel_Frequently</td>\n",
       "      <td>1392</td>\n",
       "      <td>Research &amp; Development</td>\n",
       "      <td>3</td>\n",
       "      <td>4</td>\n",
       "      <td>Life Sciences</td>\n",
       "      <td>1</td>\n",
       "      <td>5</td>\n",
       "      <td>...</td>\n",
       "      <td>3</td>\n",
       "      <td>80</td>\n",
       "      <td>0</td>\n",
       "      <td>8</td>\n",
       "      <td>3</td>\n",
       "      <td>3</td>\n",
       "      <td>8</td>\n",
       "      <td>7</td>\n",
       "      <td>3</td>\n",
       "      <td>0</td>\n",
       "    </tr>\n",
       "    <tr>\n",
       "      <th>4</th>\n",
       "      <td>27</td>\n",
       "      <td>No</td>\n",
       "      <td>Travel_Rarely</td>\n",
       "      <td>591</td>\n",
       "      <td>Research &amp; Development</td>\n",
       "      <td>2</td>\n",
       "      <td>1</td>\n",
       "      <td>Medical</td>\n",
       "      <td>1</td>\n",
       "      <td>7</td>\n",
       "      <td>...</td>\n",
       "      <td>4</td>\n",
       "      <td>80</td>\n",
       "      <td>1</td>\n",
       "      <td>6</td>\n",
       "      <td>3</td>\n",
       "      <td>3</td>\n",
       "      <td>2</td>\n",
       "      <td>2</td>\n",
       "      <td>2</td>\n",
       "      <td>2</td>\n",
       "    </tr>\n",
       "    <tr>\n",
       "      <th>5</th>\n",
       "      <td>32</td>\n",
       "      <td>No</td>\n",
       "      <td>Travel_Frequently</td>\n",
       "      <td>1005</td>\n",
       "      <td>Research &amp; Development</td>\n",
       "      <td>2</td>\n",
       "      <td>2</td>\n",
       "      <td>Life Sciences</td>\n",
       "      <td>1</td>\n",
       "      <td>8</td>\n",
       "      <td>...</td>\n",
       "      <td>3</td>\n",
       "      <td>80</td>\n",
       "      <td>0</td>\n",
       "      <td>8</td>\n",
       "      <td>2</td>\n",
       "      <td>2</td>\n",
       "      <td>7</td>\n",
       "      <td>7</td>\n",
       "      <td>3</td>\n",
       "      <td>6</td>\n",
       "    </tr>\n",
       "  </tbody>\n",
       "</table>\n",
       "<p>6 rows × 35 columns</p>\n",
       "</div>"
      ],
      "text/plain": [
       "   Age Attrition     BusinessTravel  DailyRate              Department  \\\n",
       "0   41       Yes      Travel_Rarely       1102                   Sales   \n",
       "1   49        No  Travel_Frequently        279  Research & Development   \n",
       "2   37       Yes      Travel_Rarely       1373  Research & Development   \n",
       "3   33        No  Travel_Frequently       1392  Research & Development   \n",
       "4   27        No      Travel_Rarely        591  Research & Development   \n",
       "5   32        No  Travel_Frequently       1005  Research & Development   \n",
       "\n",
       "   DistanceFromHome  Education EducationField  EmployeeCount  EmployeeNumber  \\\n",
       "0                 1          2  Life Sciences              1               1   \n",
       "1                 8          1  Life Sciences              1               2   \n",
       "2                 2          2          Other              1               4   \n",
       "3                 3          4  Life Sciences              1               5   \n",
       "4                 2          1        Medical              1               7   \n",
       "5                 2          2  Life Sciences              1               8   \n",
       "\n",
       "   ...  RelationshipSatisfaction StandardHours  StockOptionLevel  \\\n",
       "0  ...                         1            80                 0   \n",
       "1  ...                         4            80                 1   \n",
       "2  ...                         2            80                 0   \n",
       "3  ...                         3            80                 0   \n",
       "4  ...                         4            80                 1   \n",
       "5  ...                         3            80                 0   \n",
       "\n",
       "   TotalWorkingYears  TrainingTimesLastYear WorkLifeBalance  YearsAtCompany  \\\n",
       "0                  8                      0               1               6   \n",
       "1                 10                      3               3              10   \n",
       "2                  7                      3               3               0   \n",
       "3                  8                      3               3               8   \n",
       "4                  6                      3               3               2   \n",
       "5                  8                      2               2               7   \n",
       "\n",
       "  YearsInCurrentRole  YearsSinceLastPromotion  YearsWithCurrManager  \n",
       "0                  4                        0                     5  \n",
       "1                  7                        1                     7  \n",
       "2                  0                        0                     0  \n",
       "3                  7                        3                     0  \n",
       "4                  2                        2                     2  \n",
       "5                  7                        3                     6  \n",
       "\n",
       "[6 rows x 35 columns]"
      ]
     },
     "execution_count": 4,
     "metadata": {},
     "output_type": "execute_result"
    }
   ],
   "source": [
    "df = pd.read_csv(\"/kaggle/input/ibm-hr-analytics-attrition-dataset/WA_Fn-UseC_-HR-Employee-Attrition.csv\")\n",
    "df.head(6)"
   ]
  },
  {
   "cell_type": "code",
   "execution_count": 5,
   "id": "99af3fd0",
   "metadata": {
    "_cell_guid": "12df0ad2-8dc3-415c-a7e7-8f4efa7017b3",
    "_uuid": "7307104d-a8d5-45b6-bfe9-2aa532e679ac",
    "collapsed": false,
    "execution": {
     "iopub.execute_input": "2022-05-30T12:50:10.878370Z",
     "iopub.status.busy": "2022-05-30T12:50:10.877514Z",
     "iopub.status.idle": "2022-05-30T12:50:10.888318Z",
     "shell.execute_reply": "2022-05-30T12:50:10.887353Z"
    },
    "jupyter": {
     "outputs_hidden": false
    },
    "papermill": {
     "duration": 0.030929,
     "end_time": "2022-05-30T12:50:10.890774",
     "exception": false,
     "start_time": "2022-05-30T12:50:10.859845",
     "status": "completed"
    },
    "tags": []
   },
   "outputs": [
    {
     "data": {
      "text/plain": [
       "Age                         0\n",
       "Attrition                   0\n",
       "BusinessTravel              0\n",
       "DailyRate                   0\n",
       "Department                  0\n",
       "DistanceFromHome            0\n",
       "Education                   0\n",
       "EducationField              0\n",
       "EmployeeCount               0\n",
       "EmployeeNumber              0\n",
       "EnvironmentSatisfaction     0\n",
       "Gender                      0\n",
       "HourlyRate                  0\n",
       "JobInvolvement              0\n",
       "JobLevel                    0\n",
       "JobRole                     0\n",
       "JobSatisfaction             0\n",
       "MaritalStatus               0\n",
       "MonthlyIncome               0\n",
       "MonthlyRate                 0\n",
       "NumCompaniesWorked          0\n",
       "Over18                      0\n",
       "OverTime                    0\n",
       "PercentSalaryHike           0\n",
       "PerformanceRating           0\n",
       "RelationshipSatisfaction    0\n",
       "StandardHours               0\n",
       "StockOptionLevel            0\n",
       "TotalWorkingYears           0\n",
       "TrainingTimesLastYear       0\n",
       "WorkLifeBalance             0\n",
       "YearsAtCompany              0\n",
       "YearsInCurrentRole          0\n",
       "YearsSinceLastPromotion     0\n",
       "YearsWithCurrManager        0\n",
       "dtype: int64"
      ]
     },
     "execution_count": 5,
     "metadata": {},
     "output_type": "execute_result"
    }
   ],
   "source": [
    "df.isnull().sum()"
   ]
  },
  {
   "cell_type": "code",
   "execution_count": 6,
   "id": "f285d05c",
   "metadata": {
    "_cell_guid": "935e4b18-81a3-46a9-8fdf-bd8ded16727c",
    "_uuid": "752dd059-31e5-4dbf-a19a-0e561c041a25",
    "collapsed": false,
    "execution": {
     "iopub.execute_input": "2022-05-30T12:50:10.925194Z",
     "iopub.status.busy": "2022-05-30T12:50:10.924730Z",
     "iopub.status.idle": "2022-05-30T12:50:10.934453Z",
     "shell.execute_reply": "2022-05-30T12:50:10.933371Z"
    },
    "jupyter": {
     "outputs_hidden": false
    },
    "papermill": {
     "duration": 0.030796,
     "end_time": "2022-05-30T12:50:10.937663",
     "exception": false,
     "start_time": "2022-05-30T12:50:10.906867",
     "status": "completed"
    },
    "tags": []
   },
   "outputs": [],
   "source": [
    "df = df.drop(columns = ['BusinessTravel', 'Over18','DailyRate', 'DistanceFromHome', 'EmployeeCount', 'EmployeeNumber', 'JobInvolvement', 'JobLevel', 'JobRole', 'MaritalStatus', 'HourlyRate'])"
   ]
  },
  {
   "cell_type": "code",
   "execution_count": 7,
   "id": "e1b6d71c",
   "metadata": {
    "_cell_guid": "8c2cd027-0b61-432e-a057-5dcfbf188da5",
    "_uuid": "2194584f-9fbd-42ef-8226-67c25c2984ee",
    "collapsed": false,
    "execution": {
     "iopub.execute_input": "2022-05-30T12:50:10.971548Z",
     "iopub.status.busy": "2022-05-30T12:50:10.971085Z",
     "iopub.status.idle": "2022-05-30T12:50:10.977861Z",
     "shell.execute_reply": "2022-05-30T12:50:10.976790Z"
    },
    "jupyter": {
     "outputs_hidden": false
    },
    "papermill": {
     "duration": 0.025989,
     "end_time": "2022-05-30T12:50:10.980205",
     "exception": false,
     "start_time": "2022-05-30T12:50:10.954216",
     "status": "completed"
    },
    "tags": []
   },
   "outputs": [
    {
     "data": {
      "text/plain": [
       "Index(['Age', 'Attrition', 'Department', 'Education', 'EducationField',\n",
       "       'EnvironmentSatisfaction', 'Gender', 'JobSatisfaction', 'MonthlyIncome',\n",
       "       'MonthlyRate', 'NumCompaniesWorked', 'OverTime', 'PercentSalaryHike',\n",
       "       'PerformanceRating', 'RelationshipSatisfaction', 'StandardHours',\n",
       "       'StockOptionLevel', 'TotalWorkingYears', 'TrainingTimesLastYear',\n",
       "       'WorkLifeBalance', 'YearsAtCompany', 'YearsInCurrentRole',\n",
       "       'YearsSinceLastPromotion', 'YearsWithCurrManager'],\n",
       "      dtype='object')"
      ]
     },
     "execution_count": 7,
     "metadata": {},
     "output_type": "execute_result"
    }
   ],
   "source": [
    "#The columns we're going to work on\n",
    "df.columns"
   ]
  },
  {
   "cell_type": "code",
   "execution_count": 8,
   "id": "bbcd7666",
   "metadata": {
    "_cell_guid": "ee0e1f11-8774-46c1-863e-1d6432fdc5a0",
    "_uuid": "ada9c2d2-9525-4d94-a711-8f61aa5ee480",
    "collapsed": false,
    "execution": {
     "iopub.execute_input": "2022-05-30T12:50:11.016661Z",
     "iopub.status.busy": "2022-05-30T12:50:11.016253Z",
     "iopub.status.idle": "2022-05-30T12:50:11.022366Z",
     "shell.execute_reply": "2022-05-30T12:50:11.021027Z"
    },
    "jupyter": {
     "outputs_hidden": false
    },
    "papermill": {
     "duration": 0.027768,
     "end_time": "2022-05-30T12:50:11.024690",
     "exception": false,
     "start_time": "2022-05-30T12:50:10.996922",
     "status": "completed"
    },
    "tags": []
   },
   "outputs": [],
   "source": [
    "df = df.drop(columns = ['StandardHours'])"
   ]
  },
  {
   "cell_type": "code",
   "execution_count": 9,
   "id": "5daf4ae1",
   "metadata": {
    "_cell_guid": "e2969287-4128-45ad-9859-621201a03b61",
    "_uuid": "99e59b8f-ef08-432c-b424-7a97d7653702",
    "collapsed": false,
    "execution": {
     "iopub.execute_input": "2022-05-30T12:50:11.061955Z",
     "iopub.status.busy": "2022-05-30T12:50:11.061430Z",
     "iopub.status.idle": "2022-05-30T12:50:11.096370Z",
     "shell.execute_reply": "2022-05-30T12:50:11.095192Z"
    },
    "jupyter": {
     "outputs_hidden": false
    },
    "papermill": {
     "duration": 0.057877,
     "end_time": "2022-05-30T12:50:11.099199",
     "exception": false,
     "start_time": "2022-05-30T12:50:11.041322",
     "status": "completed"
    },
    "tags": []
   },
   "outputs": [
    {
     "data": {
      "text/html": [
       "<div>\n",
       "<style scoped>\n",
       "    .dataframe tbody tr th:only-of-type {\n",
       "        vertical-align: middle;\n",
       "    }\n",
       "\n",
       "    .dataframe tbody tr th {\n",
       "        vertical-align: top;\n",
       "    }\n",
       "\n",
       "    .dataframe thead th {\n",
       "        text-align: right;\n",
       "    }\n",
       "</style>\n",
       "<table border=\"1\" class=\"dataframe\">\n",
       "  <thead>\n",
       "    <tr style=\"text-align: right;\">\n",
       "      <th>Attrition</th>\n",
       "      <th>No</th>\n",
       "      <th>Yes</th>\n",
       "    </tr>\n",
       "    <tr>\n",
       "      <th>Age</th>\n",
       "      <th></th>\n",
       "      <th></th>\n",
       "    </tr>\n",
       "  </thead>\n",
       "  <tbody>\n",
       "    <tr>\n",
       "      <th>18</th>\n",
       "      <td>4.0</td>\n",
       "      <td>4.0</td>\n",
       "    </tr>\n",
       "    <tr>\n",
       "      <th>19</th>\n",
       "      <td>3.0</td>\n",
       "      <td>6.0</td>\n",
       "    </tr>\n",
       "    <tr>\n",
       "      <th>20</th>\n",
       "      <td>5.0</td>\n",
       "      <td>6.0</td>\n",
       "    </tr>\n",
       "    <tr>\n",
       "      <th>21</th>\n",
       "      <td>7.0</td>\n",
       "      <td>6.0</td>\n",
       "    </tr>\n",
       "    <tr>\n",
       "      <th>22</th>\n",
       "      <td>11.0</td>\n",
       "      <td>5.0</td>\n",
       "    </tr>\n",
       "  </tbody>\n",
       "</table>\n",
       "</div>"
      ],
      "text/plain": [
       "Attrition    No  Yes\n",
       "Age                 \n",
       "18          4.0  4.0\n",
       "19          3.0  6.0\n",
       "20          5.0  6.0\n",
       "21          7.0  6.0\n",
       "22         11.0  5.0"
      ]
     },
     "execution_count": 9,
     "metadata": {},
     "output_type": "execute_result"
    }
   ],
   "source": [
    "#Plotting agewise attrition\n",
    "df_age = df.loc[:,['Age','Attrition']]\n",
    "df_age_graph = df_age.pivot_table(index = 'Age', columns=['Attrition'], aggfunc = len)\n",
    "df_age_graph.head(5)"
   ]
  },
  {
   "cell_type": "code",
   "execution_count": 10,
   "id": "b276908f",
   "metadata": {
    "_cell_guid": "52c16487-587b-451e-aba2-1674560620d0",
    "_uuid": "87e36d27-a7cd-46e5-bf86-f7dab1e8c2b7",
    "collapsed": false,
    "execution": {
     "iopub.execute_input": "2022-05-30T12:50:11.137789Z",
     "iopub.status.busy": "2022-05-30T12:50:11.137026Z",
     "iopub.status.idle": "2022-05-30T12:50:11.822131Z",
     "shell.execute_reply": "2022-05-30T12:50:11.821374Z"
    },
    "jupyter": {
     "outputs_hidden": false
    },
    "papermill": {
     "duration": 0.706851,
     "end_time": "2022-05-30T12:50:11.824265",
     "exception": false,
     "start_time": "2022-05-30T12:50:11.117414",
     "status": "completed"
    },
    "tags": []
   },
   "outputs": [
    {
     "data": {
      "text/plain": [
       "<AxesSubplot:xlabel='Age', ylabel='count'>"
      ]
     },
     "execution_count": 10,
     "metadata": {},
     "output_type": "execute_result"
    },
    {
     "data": {
      "image/png": "[encoded data removed]",
      "text/plain": [
       "<Figure size 1872x576 with 1 Axes>"
      ]
     },
     "metadata": {
      "needs_background": "light"
     },
     "output_type": "display_data"
    }
   ],
   "source": [
    "df_age_graph.plot(kind = 'bar', stacked = True, color = ['blue','orange'], figsize = (26,8), ylabel = 'count')"
   ]
  },
  {
   "cell_type": "code",
   "execution_count": 11,
   "id": "f21a9f48",
   "metadata": {
    "_cell_guid": "5b76c95e-8030-4bab-8fd7-cea0490aa6b3",
    "_uuid": "5898d054-3aec-4d40-86e5-5cd5b7b73d99",
    "collapsed": false,
    "execution": {
     "iopub.execute_input": "2022-05-30T12:50:11.860806Z",
     "iopub.status.busy": "2022-05-30T12:50:11.860144Z",
     "iopub.status.idle": "2022-05-30T12:50:12.098353Z",
     "shell.execute_reply": "2022-05-30T12:50:12.097320Z"
    },
    "jupyter": {
     "outputs_hidden": false
    },
    "papermill": {
     "duration": 0.25916,
     "end_time": "2022-05-30T12:50:12.100781",
     "exception": false,
     "start_time": "2022-05-30T12:50:11.841621",
     "status": "completed"
    },
    "tags": []
   },
   "outputs": [
    {
     "data": {
      "text/plain": [
       "<AxesSubplot:xlabel='Department', ylabel='count'>"
      ]
     },
     "execution_count": 11,
     "metadata": {},
     "output_type": "execute_result"
    },
    {
     "data": {
      "image/png": "[encoded data removed]",
      "text/plain": [
       "<Figure size 720x576 with 1 Axes>"
      ]
     },
     "metadata": {
      "needs_background": "light"
     },
     "output_type": "display_data"
    }
   ],
   "source": [
    "#Plotting Departmentwise attrition\n",
    "plt.figure(figsize=(10,8))\n",
    "sns.countplot(data = df, x = 'Department', hue = 'Attrition')"
   ]
  },
  {
   "cell_type": "code",
   "execution_count": 12,
   "id": "1d483066",
   "metadata": {
    "_cell_guid": "493ce485-db0f-4627-9b4e-71986a7227d5",
    "_uuid": "56cec3d9-2b7f-4a9d-b6ce-f1589f1126af",
    "collapsed": false,
    "execution": {
     "iopub.execute_input": "2022-05-30T12:50:12.138866Z",
     "iopub.status.busy": "2022-05-30T12:50:12.138425Z",
     "iopub.status.idle": "2022-05-30T12:50:12.384921Z",
     "shell.execute_reply": "2022-05-30T12:50:12.383981Z"
    },
    "jupyter": {
     "outputs_hidden": false
    },
    "papermill": {
     "duration": 0.269284,
     "end_time": "2022-05-30T12:50:12.387540",
     "exception": false,
     "start_time": "2022-05-30T12:50:12.118256",
     "status": "completed"
    },
    "tags": []
   },
   "outputs": [
    {
     "data": {
      "text/plain": [
       "<AxesSubplot:xlabel='Education', ylabel='count'>"
      ]
     },
     "execution_count": 12,
     "metadata": {},
     "output_type": "execute_result"
    },
    {
     "data": {
      "image/png": "[encoded data removed]",
      "text/plain": [
       "<Figure size 1296x576 with 1 Axes>"
      ]
     },
     "metadata": {
      "needs_background": "light"
     },
     "output_type": "display_data"
    }
   ],
   "source": [
    "#Plotting attrition based on education\n",
    "plt.figure(figsize=(18,8))\n",
    "sns.countplot(data = df, x = 'Education', hue = 'Attrition')"
   ]
  },
  {
   "cell_type": "code",
   "execution_count": 13,
   "id": "dc4c1661",
   "metadata": {
    "_cell_guid": "bac48f73-fe6a-4514-9aab-02167c190515",
    "_uuid": "2a49d598-3e83-4283-a951-89739b7524e1",
    "collapsed": false,
    "execution": {
     "iopub.execute_input": "2022-05-30T12:50:12.425772Z",
     "iopub.status.busy": "2022-05-30T12:50:12.425161Z",
     "iopub.status.idle": "2022-05-30T12:50:12.646005Z",
     "shell.execute_reply": "2022-05-30T12:50:12.645183Z"
    },
    "jupyter": {
     "outputs_hidden": false
    },
    "papermill": {
     "duration": 0.242418,
     "end_time": "2022-05-30T12:50:12.648052",
     "exception": false,
     "start_time": "2022-05-30T12:50:12.405634",
     "status": "completed"
    },
    "tags": []
   },
   "outputs": [
    {
     "data": {
      "text/plain": [
       "<AxesSubplot:xlabel='EducationField', ylabel='count'>"
      ]
     },
     "execution_count": 13,
     "metadata": {},
     "output_type": "execute_result"
    },
    {
     "data": {
      "image/png": "[encoded data removed]",
      "text/plain": [
       "<Figure size 1440x576 with 1 Axes>"
      ]
     },
     "metadata": {
      "needs_background": "light"
     },
     "output_type": "display_data"
    }
   ],
   "source": [
    "#Attrition based on EducationField\n",
    "plt.figure(figsize=(20,8))\n",
    "sns.countplot(data = df, x = 'EducationField', hue = 'Attrition')"
   ]
  },
  {
   "cell_type": "code",
   "execution_count": 14,
   "id": "17c309aa",
   "metadata": {
    "_cell_guid": "851d66cb-008f-4e5d-a9c0-425f24b9b0bc",
    "_uuid": "e4e5da18-324b-427d-b097-0516440edbd8",
    "collapsed": false,
    "execution": {
     "iopub.execute_input": "2022-05-30T12:50:12.686727Z",
     "iopub.status.busy": "2022-05-30T12:50:12.686069Z",
     "iopub.status.idle": "2022-05-30T12:50:13.013513Z",
     "shell.execute_reply": "2022-05-30T12:50:13.012439Z"
    },
    "jupyter": {
     "outputs_hidden": false
    },
    "papermill": {
     "duration": 0.349731,
     "end_time": "2022-05-30T12:50:13.015959",
     "exception": false,
     "start_time": "2022-05-30T12:50:12.666228",
     "status": "completed"
    },
    "tags": []
   },
   "outputs": [
    {
     "data": {
      "text/plain": [
       "<AxesSubplot:xlabel='EnvironmentSatisfaction', ylabel='count'>"
      ]
     },
     "execution_count": 14,
     "metadata": {},
     "output_type": "execute_result"
    },
    {
     "data": {
      "image/png": "[encoded data removed]",
      "text/plain": [
       "<Figure size 1152x576 with 1 Axes>"
      ]
     },
     "metadata": {
      "needs_background": "light"
     },
     "output_type": "display_data"
    }
   ],
   "source": [
    "#Attrition based on EnvironmentSatisfaction\n",
    "plt.figure(figsize=(16,8))\n",
    "sns.countplot(data = df, x = 'EnvironmentSatisfaction', hue = 'Attrition')"
   ]
  },
  {
   "cell_type": "code",
   "execution_count": 15,
   "id": "ecedd27e",
   "metadata": {
    "_cell_guid": "9bd6531d-5145-4f6c-9038-0d58ac6f6352",
    "_uuid": "406c27b4-07cd-449c-82e5-d2a72353ad3f",
    "collapsed": false,
    "execution": {
     "iopub.execute_input": "2022-05-30T12:50:13.061175Z",
     "iopub.status.busy": "2022-05-30T12:50:13.060082Z",
     "iopub.status.idle": "2022-05-30T12:50:13.296828Z",
     "shell.execute_reply": "2022-05-30T12:50:13.293214Z"
    },
    "jupyter": {
     "outputs_hidden": false
    },
    "papermill": {
     "duration": 0.265182,
     "end_time": "2022-05-30T12:50:13.300332",
     "exception": false,
     "start_time": "2022-05-30T12:50:13.035150",
     "status": "completed"
    },
    "tags": []
   },
   "outputs": [
    {
     "data": {
      "text/plain": [
       "<AxesSubplot:xlabel='Gender', ylabel='count'>"
      ]
     },
     "execution_count": 15,
     "metadata": {},
     "output_type": "execute_result"
    },
    {
     "data": {
      "image/png": "[encoded data removed]",
      "text/plain": [
       "<Figure size 576x576 with 1 Axes>"
      ]
     },
     "metadata": {
      "needs_background": "light"
     },
     "output_type": "display_data"
    }
   ],
   "source": [
    "#Genderbased Attrition\n",
    "plt.figure(figsize=(8,8))\n",
    "sns.countplot(data = df, x = 'Gender', hue = 'Attrition')"
   ]
  },
  {
   "cell_type": "code",
   "execution_count": 16,
   "id": "fafa23ed",
   "metadata": {
    "_cell_guid": "ddd241e1-5396-4e57-ba4e-32cbdcc678b5",
    "_uuid": "39d6166a-20ad-4cc3-abc7-465e63b365a6",
    "collapsed": false,
    "execution": {
     "iopub.execute_input": "2022-05-30T12:50:13.346714Z",
     "iopub.status.busy": "2022-05-30T12:50:13.346049Z",
     "iopub.status.idle": "2022-05-30T12:50:13.609052Z",
     "shell.execute_reply": "2022-05-30T12:50:13.608363Z"
    },
    "jupyter": {
     "outputs_hidden": false
    },
    "papermill": {
     "duration": 0.285719,
     "end_time": "2022-05-30T12:50:13.611138",
     "exception": false,
     "start_time": "2022-05-30T12:50:13.325419",
     "status": "completed"
    },
    "tags": []
   },
   "outputs": [
    {
     "data": {
      "text/plain": [
       "<AxesSubplot:xlabel='JobSatisfaction', ylabel='count'>"
      ]
     },
     "execution_count": 16,
     "metadata": {},
     "output_type": "execute_result"
    },
    {
     "data": {
      "image/png": "[encoded data removed]",
      "text/plain": [
       "<Figure size 1152x576 with 1 Axes>"
      ]
     },
     "metadata": {
      "needs_background": "light"
     },
     "output_type": "display_data"
    }
   ],
   "source": [
    "#Attrition based on JobSatisfaction\n",
    "plt.figure(figsize=(16,8))\n",
    "sns.countplot(data = df, x = 'JobSatisfaction', hue = 'Attrition')"
   ]
  },
  {
   "cell_type": "code",
   "execution_count": 17,
   "id": "4ac57e27",
   "metadata": {
    "_cell_guid": "defcaaa4-4cfb-4830-9e3a-65431b5c0d6a",
    "_uuid": "e29cdcf2-a704-44cd-acd8-0e8851071761",
    "collapsed": false,
    "execution": {
     "iopub.execute_input": "2022-05-30T12:50:13.652264Z",
     "iopub.status.busy": "2022-05-30T12:50:13.651841Z",
     "iopub.status.idle": "2022-05-30T12:50:13.671312Z",
     "shell.execute_reply": "2022-05-30T12:50:13.670153Z"
    },
    "jupyter": {
     "outputs_hidden": false
    },
    "papermill": {
     "duration": 0.043406,
     "end_time": "2022-05-30T12:50:13.674033",
     "exception": false,
     "start_time": "2022-05-30T12:50:13.630627",
     "status": "completed"
    },
    "tags": []
   },
   "outputs": [
    {
     "data": {
      "text/html": [
       "<div>\n",
       "<style scoped>\n",
       "    .dataframe tbody tr th:only-of-type {\n",
       "        vertical-align: middle;\n",
       "    }\n",
       "\n",
       "    .dataframe tbody tr th {\n",
       "        vertical-align: top;\n",
       "    }\n",
       "\n",
       "    .dataframe thead th {\n",
       "        text-align: right;\n",
       "    }\n",
       "</style>\n",
       "<table border=\"1\" class=\"dataframe\">\n",
       "  <thead>\n",
       "    <tr style=\"text-align: right;\">\n",
       "      <th>Attrition</th>\n",
       "      <th>No</th>\n",
       "      <th>Yes</th>\n",
       "    </tr>\n",
       "    <tr>\n",
       "      <th>NumCompaniesWorked</th>\n",
       "      <th></th>\n",
       "      <th></th>\n",
       "    </tr>\n",
       "  </thead>\n",
       "  <tbody>\n",
       "    <tr>\n",
       "      <th>0</th>\n",
       "      <td>174</td>\n",
       "      <td>23</td>\n",
       "    </tr>\n",
       "    <tr>\n",
       "      <th>1</th>\n",
       "      <td>423</td>\n",
       "      <td>98</td>\n",
       "    </tr>\n",
       "    <tr>\n",
       "      <th>2</th>\n",
       "      <td>130</td>\n",
       "      <td>16</td>\n",
       "    </tr>\n",
       "    <tr>\n",
       "      <th>3</th>\n",
       "      <td>143</td>\n",
       "      <td>16</td>\n",
       "    </tr>\n",
       "    <tr>\n",
       "      <th>4</th>\n",
       "      <td>122</td>\n",
       "      <td>17</td>\n",
       "    </tr>\n",
       "  </tbody>\n",
       "</table>\n",
       "</div>"
      ],
      "text/plain": [
       "Attrition            No  Yes\n",
       "NumCompaniesWorked          \n",
       "0                   174   23\n",
       "1                   423   98\n",
       "2                   130   16\n",
       "3                   143   16\n",
       "4                   122   17"
      ]
     },
     "execution_count": 17,
     "metadata": {},
     "output_type": "execute_result"
    }
   ],
   "source": [
    "#NumCompaniesWorked based attrition\n",
    "df_numc = df.loc[:,['NumCompaniesWorked','Attrition']]\n",
    "df_numc_graph = df_numc.pivot_table(index = 'NumCompaniesWorked', columns=['Attrition'], aggfunc = len)\n",
    "df_numc_graph.head(5)"
   ]
  },
  {
   "cell_type": "code",
   "execution_count": 18,
   "id": "afa1c2f7",
   "metadata": {
    "_cell_guid": "ce4aeb60-43ff-4d0f-93b0-76f5b1e8591e",
    "_uuid": "cc468a2c-2ea0-40a8-9f6d-19a398647233",
    "collapsed": false,
    "execution": {
     "iopub.execute_input": "2022-05-30T12:50:13.716319Z",
     "iopub.status.busy": "2022-05-30T12:50:13.715921Z",
     "iopub.status.idle": "2022-05-30T12:50:13.996397Z",
     "shell.execute_reply": "2022-05-30T12:50:13.995463Z"
    },
    "jupyter": {
     "outputs_hidden": false
    },
    "papermill": {
     "duration": 0.304413,
     "end_time": "2022-05-30T12:50:13.998659",
     "exception": false,
     "start_time": "2022-05-30T12:50:13.694246",
     "status": "completed"
    },
    "tags": []
   },
   "outputs": [
    {
     "data": {
      "text/plain": [
       "<AxesSubplot:xlabel='NumCompaniesWorked', ylabel='count'>"
      ]
     },
     "execution_count": 18,
     "metadata": {},
     "output_type": "execute_result"
    },
    {
     "data": {
      "image/png": "[encoded data removed]",
      "text/plain": [
       "<Figure size 1440x576 with 1 Axes>"
      ]
     },
     "metadata": {
      "needs_background": "light"
     },
     "output_type": "display_data"
    }
   ],
   "source": [
    "df_numc_graph.plot(kind = 'bar', stacked = True, color = ['blue','orange'], figsize = (20,8), ylabel = 'count')"
   ]
  },
  {
   "cell_type": "code",
   "execution_count": 19,
   "id": "a9ba1588",
   "metadata": {
    "_cell_guid": "6dc0bea8-6316-48f1-87d7-404ac829110d",
    "_uuid": "f3d25cae-0d89-416c-83d0-b06c21b34ed4",
    "collapsed": false,
    "execution": {
     "iopub.execute_input": "2022-05-30T12:50:14.044160Z",
     "iopub.status.busy": "2022-05-30T12:50:14.043080Z",
     "iopub.status.idle": "2022-05-30T12:50:14.193214Z",
     "shell.execute_reply": "2022-05-30T12:50:14.192186Z"
    },
    "jupyter": {
     "outputs_hidden": false
    },
    "papermill": {
     "duration": 0.176573,
     "end_time": "2022-05-30T12:50:14.196747",
     "exception": false,
     "start_time": "2022-05-30T12:50:14.020174",
     "status": "completed"
    },
    "tags": []
   },
   "outputs": [
    {
     "data": {
      "text/plain": [
       "<AxesSubplot:xlabel='OverTime', ylabel='count'>"
      ]
     },
     "execution_count": 19,
     "metadata": {},
     "output_type": "execute_result"
    },
    {
     "data": {
      "image/png": "[encoded data removed]",
      "text/plain": [
       "<Figure size 576x576 with 1 Axes>"
      ]
     },
     "metadata": {
      "needs_background": "light"
     },
     "output_type": "display_data"
    }
   ],
   "source": [
    "#Attrition based on if OverTime is compensated\n",
    "plt.figure(figsize=(8,8))\n",
    "sns.countplot(data = df, x = 'OverTime', hue = 'Attrition')"
   ]
  },
  {
   "cell_type": "code",
   "execution_count": 20,
   "id": "87b52dbb",
   "metadata": {
    "_cell_guid": "9c5d63df-a694-41fd-81d1-cbf000a5ca8d",
    "_uuid": "34f8774e-e1ca-4de6-b791-2b9211859574",
    "collapsed": false,
    "execution": {
     "iopub.execute_input": "2022-05-30T12:50:14.244491Z",
     "iopub.status.busy": "2022-05-30T12:50:14.244037Z",
     "iopub.status.idle": "2022-05-30T12:50:14.262356Z",
     "shell.execute_reply": "2022-05-30T12:50:14.261201Z"
    },
    "jupyter": {
     "outputs_hidden": false
    },
    "papermill": {
     "duration": 0.04245,
     "end_time": "2022-05-30T12:50:14.264736",
     "exception": false,
     "start_time": "2022-05-30T12:50:14.222286",
     "status": "completed"
    },
    "tags": []
   },
   "outputs": [
    {
     "data": {
      "text/html": [
       "<div>\n",
       "<style scoped>\n",
       "    .dataframe tbody tr th:only-of-type {\n",
       "        vertical-align: middle;\n",
       "    }\n",
       "\n",
       "    .dataframe tbody tr th {\n",
       "        vertical-align: top;\n",
       "    }\n",
       "\n",
       "    .dataframe thead th {\n",
       "        text-align: right;\n",
       "    }\n",
       "</style>\n",
       "<table border=\"1\" class=\"dataframe\">\n",
       "  <thead>\n",
       "    <tr style=\"text-align: right;\">\n",
       "      <th>Attrition</th>\n",
       "      <th>No</th>\n",
       "      <th>Yes</th>\n",
       "    </tr>\n",
       "    <tr>\n",
       "      <th>PercentSalaryHike</th>\n",
       "      <th></th>\n",
       "      <th></th>\n",
       "    </tr>\n",
       "  </thead>\n",
       "  <tbody>\n",
       "    <tr>\n",
       "      <th>11</th>\n",
       "      <td>169</td>\n",
       "      <td>41</td>\n",
       "    </tr>\n",
       "    <tr>\n",
       "      <th>12</th>\n",
       "      <td>165</td>\n",
       "      <td>33</td>\n",
       "    </tr>\n",
       "    <tr>\n",
       "      <th>13</th>\n",
       "      <td>175</td>\n",
       "      <td>34</td>\n",
       "    </tr>\n",
       "    <tr>\n",
       "      <th>14</th>\n",
       "      <td>177</td>\n",
       "      <td>24</td>\n",
       "    </tr>\n",
       "    <tr>\n",
       "      <th>15</th>\n",
       "      <td>83</td>\n",
       "      <td>18</td>\n",
       "    </tr>\n",
       "  </tbody>\n",
       "</table>\n",
       "</div>"
      ],
      "text/plain": [
       "Attrition           No  Yes\n",
       "PercentSalaryHike          \n",
       "11                 169   41\n",
       "12                 165   33\n",
       "13                 175   34\n",
       "14                 177   24\n",
       "15                  83   18"
      ]
     },
     "execution_count": 20,
     "metadata": {},
     "output_type": "execute_result"
    }
   ],
   "source": [
    "#PercentSalaryHike based Attrition\n",
    "df_persh = df.loc[:,['PercentSalaryHike','Attrition']]\n",
    "df_persh_graph = df_persh.pivot_table(index = 'PercentSalaryHike', columns=['Attrition'], aggfunc = len)\n",
    "df_persh_graph.head(5)"
   ]
  },
  {
   "cell_type": "code",
   "execution_count": 21,
   "id": "31c6523e",
   "metadata": {
    "_cell_guid": "c945086b-0b18-4743-a575-4c80b4e42818",
    "_uuid": "4588cf91-6062-4754-a454-09177a56ec85",
    "collapsed": false,
    "execution": {
     "iopub.execute_input": "2022-05-30T12:50:14.308522Z",
     "iopub.status.busy": "2022-05-30T12:50:14.308094Z",
     "iopub.status.idle": "2022-05-30T12:50:14.634651Z",
     "shell.execute_reply": "2022-05-30T12:50:14.633703Z"
    },
    "jupyter": {
     "outputs_hidden": false
    },
    "papermill": {
     "duration": 0.351069,
     "end_time": "2022-05-30T12:50:14.636865",
     "exception": false,
     "start_time": "2022-05-30T12:50:14.285796",
     "status": "completed"
    },
    "tags": []
   },
   "outputs": [
    {
     "data": {
      "text/plain": [
       "<AxesSubplot:xlabel='PercentSalaryHike', ylabel='count'>"
      ]
     },
     "execution_count": 21,
     "metadata": {},
     "output_type": "execute_result"
    },
    {
     "data": {
      "image/png": "[encoded data removed]",
      "text/plain": [
       "<Figure size 1440x576 with 1 Axes>"
      ]
     },
     "metadata": {
      "needs_background": "light"
     },
     "output_type": "display_data"
    }
   ],
   "source": [
    "df_persh_graph.plot(kind = 'bar', stacked = True, color = ['blue','orange'], figsize = (20,8), ylabel = 'count')"
   ]
  },
  {
   "cell_type": "code",
   "execution_count": 22,
   "id": "a14bc159",
   "metadata": {
    "_cell_guid": "74d29658-6202-4c78-a878-4c50122ccfb1",
    "_uuid": "89db1ef0-8b09-4433-95a7-9175e4980359",
    "collapsed": false,
    "execution": {
     "iopub.execute_input": "2022-05-30T12:50:14.681926Z",
     "iopub.status.busy": "2022-05-30T12:50:14.680870Z",
     "iopub.status.idle": "2022-05-30T12:50:14.833057Z",
     "shell.execute_reply": "2022-05-30T12:50:14.832177Z"
    },
    "jupyter": {
     "outputs_hidden": false
    },
    "papermill": {
     "duration": 0.177361,
     "end_time": "2022-05-30T12:50:14.835331",
     "exception": false,
     "start_time": "2022-05-30T12:50:14.657970",
     "status": "completed"
    },
    "tags": []
   },
   "outputs": [
    {
     "data": {
      "text/plain": [
       "<AxesSubplot:xlabel='PerformanceRating', ylabel='count'>"
      ]
     },
     "execution_count": 22,
     "metadata": {},
     "output_type": "execute_result"
    },
    {
     "data": {
      "image/png": "[encoded data removed]",
      "text/plain": [
       "<Figure size 576x576 with 1 Axes>"
      ]
     },
     "metadata": {
      "needs_background": "light"
     },
     "output_type": "display_data"
    }
   ],
   "source": [
    "#Attrition based on PerformanceRating\n",
    "plt.figure(figsize=(8,8))\n",
    "sns.countplot(data = df, x = 'PerformanceRating', hue = 'Attrition')"
   ]
  },
  {
   "cell_type": "code",
   "execution_count": 23,
   "id": "7f5c8e9c",
   "metadata": {
    "_cell_guid": "78a7f9f2-e4d4-4f94-8a35-9a368be4bcf4",
    "_uuid": "53dd560f-f80a-4805-8a4e-db9ff258cf2a",
    "collapsed": false,
    "execution": {
     "iopub.execute_input": "2022-05-30T12:50:14.881865Z",
     "iopub.status.busy": "2022-05-30T12:50:14.881269Z",
     "iopub.status.idle": "2022-05-30T12:50:15.061810Z",
     "shell.execute_reply": "2022-05-30T12:50:15.060630Z"
    },
    "jupyter": {
     "outputs_hidden": false
    },
    "papermill": {
     "duration": 0.206198,
     "end_time": "2022-05-30T12:50:15.064361",
     "exception": false,
     "start_time": "2022-05-30T12:50:14.858163",
     "status": "completed"
    },
    "tags": []
   },
   "outputs": [
    {
     "data": {
      "text/plain": [
       "<AxesSubplot:xlabel='StockOptionLevel', ylabel='count'>"
      ]
     },
     "execution_count": 23,
     "metadata": {},
     "output_type": "execute_result"
    },
    {
     "data": {
      "image/png": "[encoded data removed]",
      "text/plain": [
       "<Figure size 1152x576 with 1 Axes>"
      ]
     },
     "metadata": {
      "needs_background": "light"
     },
     "output_type": "display_data"
    }
   ],
   "source": [
    "#RelationshipSatisfaction based attrition\n",
    "plt.figure(figsize=(16,8))\n",
    "sns.countplot(data = df, x = 'StockOptionLevel', hue = 'Attrition')"
   ]
  },
  {
   "cell_type": "code",
   "execution_count": 24,
   "id": "39b34ba4",
   "metadata": {
    "_cell_guid": "12018c25-98a9-4f75-80a7-ffde8f95d18b",
    "_uuid": "83bb0b2a-8daf-4647-ab96-d00d46497910",
    "collapsed": false,
    "execution": {
     "iopub.execute_input": "2022-05-30T12:50:15.115517Z",
     "iopub.status.busy": "2022-05-30T12:50:15.114493Z",
     "iopub.status.idle": "2022-05-30T12:50:15.295613Z",
     "shell.execute_reply": "2022-05-30T12:50:15.294600Z"
    },
    "jupyter": {
     "outputs_hidden": false
    },
    "papermill": {
     "duration": 0.211041,
     "end_time": "2022-05-30T12:50:15.298037",
     "exception": false,
     "start_time": "2022-05-30T12:50:15.086996",
     "status": "completed"
    },
    "tags": []
   },
   "outputs": [
    {
     "data": {
      "text/plain": [
       "<AxesSubplot:xlabel='StockOptionLevel', ylabel='count'>"
      ]
     },
     "execution_count": 24,
     "metadata": {},
     "output_type": "execute_result"
    },
    {
     "data": {
      "image/png": "[encoded data removed]",
      "text/plain": [
       "<Figure size 1152x576 with 1 Axes>"
      ]
     },
     "metadata": {
      "needs_background": "light"
     },
     "output_type": "display_data"
    }
   ],
   "source": [
    "#Attrition based on StockOptionLevel\n",
    "plt.figure(figsize=(16,8))\n",
    "sns.countplot(data = df, x = 'StockOptionLevel', hue = 'Attrition')"
   ]
  },
  {
   "cell_type": "code",
   "execution_count": 25,
   "id": "dcd1878f",
   "metadata": {
    "_cell_guid": "a5fd4b03-00ce-40bd-a588-a51d028497fe",
    "_uuid": "e4dc25ed-94c4-47e4-9fb1-3eec2c0965f1",
    "collapsed": false,
    "execution": {
     "iopub.execute_input": "2022-05-30T12:50:15.347352Z",
     "iopub.status.busy": "2022-05-30T12:50:15.345528Z",
     "iopub.status.idle": "2022-05-30T12:50:15.368158Z",
     "shell.execute_reply": "2022-05-30T12:50:15.367337Z"
    },
    "jupyter": {
     "outputs_hidden": false
    },
    "papermill": {
     "duration": 0.049275,
     "end_time": "2022-05-30T12:50:15.370163",
     "exception": false,
     "start_time": "2022-05-30T12:50:15.320888",
     "status": "completed"
    },
    "tags": []
   },
   "outputs": [
    {
     "data": {
      "text/html": [
       "<div>\n",
       "<style scoped>\n",
       "    .dataframe tbody tr th:only-of-type {\n",
       "        vertical-align: middle;\n",
       "    }\n",
       "\n",
       "    .dataframe tbody tr th {\n",
       "        vertical-align: top;\n",
       "    }\n",
       "\n",
       "    .dataframe thead th {\n",
       "        text-align: right;\n",
       "    }\n",
       "</style>\n",
       "<table border=\"1\" class=\"dataframe\">\n",
       "  <thead>\n",
       "    <tr style=\"text-align: right;\">\n",
       "      <th>Attrition</th>\n",
       "      <th>No</th>\n",
       "      <th>Yes</th>\n",
       "    </tr>\n",
       "    <tr>\n",
       "      <th>TotalWorkingYears</th>\n",
       "      <th></th>\n",
       "      <th></th>\n",
       "    </tr>\n",
       "  </thead>\n",
       "  <tbody>\n",
       "    <tr>\n",
       "      <th>0</th>\n",
       "      <td>6.0</td>\n",
       "      <td>5.0</td>\n",
       "    </tr>\n",
       "    <tr>\n",
       "      <th>1</th>\n",
       "      <td>41.0</td>\n",
       "      <td>40.0</td>\n",
       "    </tr>\n",
       "    <tr>\n",
       "      <th>2</th>\n",
       "      <td>22.0</td>\n",
       "      <td>9.0</td>\n",
       "    </tr>\n",
       "    <tr>\n",
       "      <th>3</th>\n",
       "      <td>33.0</td>\n",
       "      <td>9.0</td>\n",
       "    </tr>\n",
       "    <tr>\n",
       "      <th>4</th>\n",
       "      <td>51.0</td>\n",
       "      <td>12.0</td>\n",
       "    </tr>\n",
       "  </tbody>\n",
       "</table>\n",
       "</div>"
      ],
      "text/plain": [
       "Attrition            No   Yes\n",
       "TotalWorkingYears            \n",
       "0                   6.0   5.0\n",
       "1                  41.0  40.0\n",
       "2                  22.0   9.0\n",
       "3                  33.0   9.0\n",
       "4                  51.0  12.0"
      ]
     },
     "execution_count": 25,
     "metadata": {},
     "output_type": "execute_result"
    }
   ],
   "source": [
    "#Attrition based on TotalWorkingYears\n",
    "df_woy = df.loc[:,['TotalWorkingYears','Attrition']]\n",
    "df_woy_graph = df_woy.pivot_table(index = 'TotalWorkingYears', columns=['Attrition'], aggfunc = len)\n",
    "df_woy_graph.head(5)"
   ]
  },
  {
   "cell_type": "code",
   "execution_count": 26,
   "id": "fd873413",
   "metadata": {
    "_cell_guid": "a74324a6-ddb6-4fde-ab46-d4020e34671c",
    "_uuid": "8c0a0a91-8be0-4234-b2b4-171de2c400a2",
    "collapsed": false,
    "execution": {
     "iopub.execute_input": "2022-05-30T12:50:15.416324Z",
     "iopub.status.busy": "2022-05-30T12:50:15.415469Z",
     "iopub.status.idle": "2022-05-30T12:50:15.970369Z",
     "shell.execute_reply": "2022-05-30T12:50:15.969548Z"
    },
    "jupyter": {
     "outputs_hidden": false
    },
    "papermill": {
     "duration": 0.580436,
     "end_time": "2022-05-30T12:50:15.972774",
     "exception": false,
     "start_time": "2022-05-30T12:50:15.392338",
     "status": "completed"
    },
    "tags": []
   },
   "outputs": [
    {
     "data": {
      "text/plain": [
       "<AxesSubplot:xlabel='TotalWorkingYears', ylabel='count'>"
      ]
     },
     "execution_count": 26,
     "metadata": {},
     "output_type": "execute_result"
    },
    {
     "data": {
      "image/png": "[encoded data removed]",
      "text/plain": [
       "<Figure size 2016x576 with 1 Axes>"
      ]
     },
     "metadata": {
      "needs_background": "light"
     },
     "output_type": "display_data"
    }
   ],
   "source": [
    "df_woy_graph.plot(kind = 'bar', stacked = True, color = ['blue','orange'], figsize = (28,8), ylabel = 'count')"
   ]
  },
  {
   "cell_type": "code",
   "execution_count": 27,
   "id": "8e391059",
   "metadata": {
    "_cell_guid": "f323d6ed-80d8-4755-9e3b-81020555e16d",
    "_uuid": "6dc6a291-7123-4843-87a1-fd4b804da7d5",
    "collapsed": false,
    "execution": {
     "iopub.execute_input": "2022-05-30T12:50:16.021815Z",
     "iopub.status.busy": "2022-05-30T12:50:16.021152Z",
     "iopub.status.idle": "2022-05-30T12:50:16.288259Z",
     "shell.execute_reply": "2022-05-30T12:50:16.287142Z"
    },
    "jupyter": {
     "outputs_hidden": false
    },
    "papermill": {
     "duration": 0.294607,
     "end_time": "2022-05-30T12:50:16.290667",
     "exception": false,
     "start_time": "2022-05-30T12:50:15.996060",
     "status": "completed"
    },
    "tags": []
   },
   "outputs": [
    {
     "data": {
      "text/plain": [
       "<AxesSubplot:xlabel='TrainingTimesLastYear', ylabel='count'>"
      ]
     },
     "execution_count": 27,
     "metadata": {},
     "output_type": "execute_result"
    },
    {
     "data": {
      "image/png": "[encoded data removed]",
      "text/plain": [
       "<Figure size 1296x576 with 1 Axes>"
      ]
     },
     "metadata": {
      "needs_background": "light"
     },
     "output_type": "display_data"
    }
   ],
   "source": [
    "#Attrition based on TrainingTimesLastYear\n",
    "plt.figure(figsize=(18,8))\n",
    "sns.countplot(data = df, x = 'TrainingTimesLastYear', hue = 'Attrition')"
   ]
  },
  {
   "cell_type": "code",
   "execution_count": 28,
   "id": "5f459e7e",
   "metadata": {
    "_cell_guid": "7e3cc286-eea6-42c0-b102-36ce81fa7d95",
    "_uuid": "15fc001b-1e98-415f-90f9-78c0ad51fbee",
    "collapsed": false,
    "execution": {
     "iopub.execute_input": "2022-05-30T12:50:16.339516Z",
     "iopub.status.busy": "2022-05-30T12:50:16.338853Z",
     "iopub.status.idle": "2022-05-30T12:50:16.538338Z",
     "shell.execute_reply": "2022-05-30T12:50:16.537153Z"
    },
    "jupyter": {
     "outputs_hidden": false
    },
    "papermill": {
     "duration": 0.226635,
     "end_time": "2022-05-30T12:50:16.540607",
     "exception": false,
     "start_time": "2022-05-30T12:50:16.313972",
     "status": "completed"
    },
    "tags": []
   },
   "outputs": [
    {
     "data": {
      "text/plain": [
       "<AxesSubplot:xlabel='WorkLifeBalance', ylabel='count'>"
      ]
     },
     "execution_count": 28,
     "metadata": {},
     "output_type": "execute_result"
    },
    {
     "data": {
      "image/png": "[encoded data removed]",
      "text/plain": [
       "<Figure size 1152x576 with 1 Axes>"
      ]
     },
     "metadata": {
      "needs_background": "light"
     },
     "output_type": "display_data"
    }
   ],
   "source": [
    "#Attrition based on WorkLifeBalance\n",
    "plt.figure(figsize=(16,8))\n",
    "sns.countplot(data = df, x = 'WorkLifeBalance', hue = 'Attrition')"
   ]
  },
  {
   "cell_type": "code",
   "execution_count": 29,
   "id": "db4ff87c",
   "metadata": {
    "_cell_guid": "40a5d4b5-93d0-466a-b6c1-8af0a3b9ae19",
    "_uuid": "ec4b4822-e554-44ef-8e76-7cebca7da2db",
    "collapsed": false,
    "execution": {
     "iopub.execute_input": "2022-05-30T12:50:16.590275Z",
     "iopub.status.busy": "2022-05-30T12:50:16.589255Z",
     "iopub.status.idle": "2022-05-30T12:50:16.608502Z",
     "shell.execute_reply": "2022-05-30T12:50:16.607526Z"
    },
    "jupyter": {
     "outputs_hidden": false
    },
    "papermill": {
     "duration": 0.046344,
     "end_time": "2022-05-30T12:50:16.610711",
     "exception": false,
     "start_time": "2022-05-30T12:50:16.564367",
     "status": "completed"
    },
    "tags": []
   },
   "outputs": [
    {
     "data": {
      "text/html": [
       "<div>\n",
       "<style scoped>\n",
       "    .dataframe tbody tr th:only-of-type {\n",
       "        vertical-align: middle;\n",
       "    }\n",
       "\n",
       "    .dataframe tbody tr th {\n",
       "        vertical-align: top;\n",
       "    }\n",
       "\n",
       "    .dataframe thead th {\n",
       "        text-align: right;\n",
       "    }\n",
       "</style>\n",
       "<table border=\"1\" class=\"dataframe\">\n",
       "  <thead>\n",
       "    <tr style=\"text-align: right;\">\n",
       "      <th>Attrition</th>\n",
       "      <th>No</th>\n",
       "      <th>Yes</th>\n",
       "    </tr>\n",
       "    <tr>\n",
       "      <th>YearsAtCompany</th>\n",
       "      <th></th>\n",
       "      <th></th>\n",
       "    </tr>\n",
       "  </thead>\n",
       "  <tbody>\n",
       "    <tr>\n",
       "      <th>0</th>\n",
       "      <td>28.0</td>\n",
       "      <td>16.0</td>\n",
       "    </tr>\n",
       "    <tr>\n",
       "      <th>1</th>\n",
       "      <td>112.0</td>\n",
       "      <td>59.0</td>\n",
       "    </tr>\n",
       "    <tr>\n",
       "      <th>2</th>\n",
       "      <td>100.0</td>\n",
       "      <td>27.0</td>\n",
       "    </tr>\n",
       "    <tr>\n",
       "      <th>3</th>\n",
       "      <td>108.0</td>\n",
       "      <td>20.0</td>\n",
       "    </tr>\n",
       "    <tr>\n",
       "      <th>4</th>\n",
       "      <td>91.0</td>\n",
       "      <td>19.0</td>\n",
       "    </tr>\n",
       "  </tbody>\n",
       "</table>\n",
       "</div>"
      ],
      "text/plain": [
       "Attrition          No   Yes\n",
       "YearsAtCompany             \n",
       "0                28.0  16.0\n",
       "1               112.0  59.0\n",
       "2               100.0  27.0\n",
       "3               108.0  20.0\n",
       "4                91.0  19.0"
      ]
     },
     "execution_count": 29,
     "metadata": {},
     "output_type": "execute_result"
    }
   ],
   "source": [
    "#Attrition based on YearsAtCompany\n",
    "df_yatc = df.loc[:,['YearsAtCompany','Attrition']]\n",
    "df_yatc_graph = df_yatc.pivot_table(index = 'YearsAtCompany', columns=['Attrition'], aggfunc = len)\n",
    "df_yatc_graph.head(5)"
   ]
  },
  {
   "cell_type": "code",
   "execution_count": 30,
   "id": "94751397",
   "metadata": {
    "_cell_guid": "a1c244e7-b698-47b6-b2ee-dcf76bd237d4",
    "_uuid": "f21a11fe-0c57-4702-b2a5-d4ef6325e26b",
    "collapsed": false,
    "execution": {
     "iopub.execute_input": "2022-05-30T12:50:16.662218Z",
     "iopub.status.busy": "2022-05-30T12:50:16.661647Z",
     "iopub.status.idle": "2022-05-30T12:50:17.215580Z",
     "shell.execute_reply": "2022-05-30T12:50:17.214819Z"
    },
    "jupyter": {
     "outputs_hidden": false
    },
    "papermill": {
     "duration": 0.582118,
     "end_time": "2022-05-30T12:50:17.218139",
     "exception": false,
     "start_time": "2022-05-30T12:50:16.636021",
     "status": "completed"
    },
    "tags": []
   },
   "outputs": [
    {
     "data": {
      "text/plain": [
       "<AxesSubplot:xlabel='YearsAtCompany', ylabel='count'>"
      ]
     },
     "execution_count": 30,
     "metadata": {},
     "output_type": "execute_result"
    },
    {
     "data": {
      "image/png": "[encoded data removed]",
      "text/plain": [
       "<Figure size 2016x576 with 1 Axes>"
      ]
     },
     "metadata": {
      "needs_background": "light"
     },
     "output_type": "display_data"
    }
   ],
   "source": [
    "df_yatc_graph.plot(kind = 'bar', stacked = True, color = ['blue','orange'], figsize = (28,8), ylabel = 'count')"
   ]
  },
  {
   "cell_type": "code",
   "execution_count": 31,
   "id": "024c150a",
   "metadata": {
    "_cell_guid": "8d8a8de0-de7e-44a9-aeee-30b87caab553",
    "_uuid": "79c8875e-186e-4bb7-8258-7387719b4ad3",
    "collapsed": false,
    "execution": {
     "iopub.execute_input": "2022-05-30T12:50:17.270780Z",
     "iopub.status.busy": "2022-05-30T12:50:17.270081Z",
     "iopub.status.idle": "2022-05-30T12:50:17.291269Z",
     "shell.execute_reply": "2022-05-30T12:50:17.289842Z"
    },
    "jupyter": {
     "outputs_hidden": false
    },
    "papermill": {
     "duration": 0.049881,
     "end_time": "2022-05-30T12:50:17.293618",
     "exception": false,
     "start_time": "2022-05-30T12:50:17.243737",
     "status": "completed"
    },
    "tags": []
   },
   "outputs": [
    {
     "data": {
      "text/html": [
       "<div>\n",
       "<style scoped>\n",
       "    .dataframe tbody tr th:only-of-type {\n",
       "        vertical-align: middle;\n",
       "    }\n",
       "\n",
       "    .dataframe tbody tr th {\n",
       "        vertical-align: top;\n",
       "    }\n",
       "\n",
       "    .dataframe thead th {\n",
       "        text-align: right;\n",
       "    }\n",
       "</style>\n",
       "<table border=\"1\" class=\"dataframe\">\n",
       "  <thead>\n",
       "    <tr style=\"text-align: right;\">\n",
       "      <th>Attrition</th>\n",
       "      <th>No</th>\n",
       "      <th>Yes</th>\n",
       "    </tr>\n",
       "    <tr>\n",
       "      <th>YearsInCurrentRole</th>\n",
       "      <th></th>\n",
       "      <th></th>\n",
       "    </tr>\n",
       "  </thead>\n",
       "  <tbody>\n",
       "    <tr>\n",
       "      <th>0</th>\n",
       "      <td>171.0</td>\n",
       "      <td>73.0</td>\n",
       "    </tr>\n",
       "    <tr>\n",
       "      <th>1</th>\n",
       "      <td>46.0</td>\n",
       "      <td>11.0</td>\n",
       "    </tr>\n",
       "    <tr>\n",
       "      <th>2</th>\n",
       "      <td>304.0</td>\n",
       "      <td>68.0</td>\n",
       "    </tr>\n",
       "    <tr>\n",
       "      <th>3</th>\n",
       "      <td>119.0</td>\n",
       "      <td>16.0</td>\n",
       "    </tr>\n",
       "    <tr>\n",
       "      <th>4</th>\n",
       "      <td>89.0</td>\n",
       "      <td>15.0</td>\n",
       "    </tr>\n",
       "  </tbody>\n",
       "</table>\n",
       "</div>"
      ],
      "text/plain": [
       "Attrition              No   Yes\n",
       "YearsInCurrentRole             \n",
       "0                   171.0  73.0\n",
       "1                    46.0  11.0\n",
       "2                   304.0  68.0\n",
       "3                   119.0  16.0\n",
       "4                    89.0  15.0"
      ]
     },
     "execution_count": 31,
     "metadata": {},
     "output_type": "execute_result"
    }
   ],
   "source": [
    "#Atrition based on YearsInCurrentRole\n",
    "df_yincr = df.loc[:,['YearsInCurrentRole','Attrition']]\n",
    "df_yincr_graph = df_yincr.pivot_table(index = 'YearsInCurrentRole', columns=['Attrition'], aggfunc = len)\n",
    "df_yincr_graph.head(5)"
   ]
  },
  {
   "cell_type": "code",
   "execution_count": 32,
   "id": "422739a1",
   "metadata": {
    "_cell_guid": "16970dbd-9562-44a8-aecb-fcc1f973089e",
    "_uuid": "d4a77976-645b-4fa5-b7a9-712d94189a8c",
    "collapsed": false,
    "execution": {
     "iopub.execute_input": "2022-05-30T12:50:17.344772Z",
     "iopub.status.busy": "2022-05-30T12:50:17.343935Z",
     "iopub.status.idle": "2022-05-30T12:50:17.725861Z",
     "shell.execute_reply": "2022-05-30T12:50:17.724592Z"
    },
    "jupyter": {
     "outputs_hidden": false
    },
    "papermill": {
     "duration": 0.409927,
     "end_time": "2022-05-30T12:50:17.728238",
     "exception": false,
     "start_time": "2022-05-30T12:50:17.318311",
     "status": "completed"
    },
    "tags": []
   },
   "outputs": [
    {
     "data": {
      "text/plain": [
       "<AxesSubplot:xlabel='YearsInCurrentRole', ylabel='count'>"
      ]
     },
     "execution_count": 32,
     "metadata": {},
     "output_type": "execute_result"
    },
    {
     "data": {
      "image/png": "[encoded data removed]",
      "text/plain": [
       "<Figure size 2016x576 with 1 Axes>"
      ]
     },
     "metadata": {
      "needs_background": "light"
     },
     "output_type": "display_data"
    }
   ],
   "source": [
    "df_yincr_graph.plot(kind = 'bar', stacked = True, color = ['blue','orange'], figsize = (28,8), ylabel = 'count')"
   ]
  },
  {
   "cell_type": "code",
   "execution_count": 33,
   "id": "8b9c4e62",
   "metadata": {
    "_cell_guid": "11ae9303-ee9a-44fc-862f-81b1686326eb",
    "_uuid": "2406453c-64e8-4417-a6ee-56db12f3f5c1",
    "collapsed": false,
    "execution": {
     "iopub.execute_input": "2022-05-30T12:50:17.781116Z",
     "iopub.status.busy": "2022-05-30T12:50:17.780686Z",
     "iopub.status.idle": "2022-05-30T12:50:17.800419Z",
     "shell.execute_reply": "2022-05-30T12:50:17.799374Z"
    },
    "jupyter": {
     "outputs_hidden": false
    },
    "papermill": {
     "duration": 0.048816,
     "end_time": "2022-05-30T12:50:17.802692",
     "exception": false,
     "start_time": "2022-05-30T12:50:17.753876",
     "status": "completed"
    },
    "tags": []
   },
   "outputs": [
    {
     "data": {
      "text/html": [
       "<div>\n",
       "<style scoped>\n",
       "    .dataframe tbody tr th:only-of-type {\n",
       "        vertical-align: middle;\n",
       "    }\n",
       "\n",
       "    .dataframe tbody tr th {\n",
       "        vertical-align: top;\n",
       "    }\n",
       "\n",
       "    .dataframe thead th {\n",
       "        text-align: right;\n",
       "    }\n",
       "</style>\n",
       "<table border=\"1\" class=\"dataframe\">\n",
       "  <thead>\n",
       "    <tr style=\"text-align: right;\">\n",
       "      <th>Attrition</th>\n",
       "      <th>No</th>\n",
       "      <th>Yes</th>\n",
       "    </tr>\n",
       "    <tr>\n",
       "      <th>YearsSinceLastPromotion</th>\n",
       "      <th></th>\n",
       "      <th></th>\n",
       "    </tr>\n",
       "  </thead>\n",
       "  <tbody>\n",
       "    <tr>\n",
       "      <th>0</th>\n",
       "      <td>471.0</td>\n",
       "      <td>110.0</td>\n",
       "    </tr>\n",
       "    <tr>\n",
       "      <th>1</th>\n",
       "      <td>308.0</td>\n",
       "      <td>49.0</td>\n",
       "    </tr>\n",
       "    <tr>\n",
       "      <th>2</th>\n",
       "      <td>132.0</td>\n",
       "      <td>27.0</td>\n",
       "    </tr>\n",
       "    <tr>\n",
       "      <th>3</th>\n",
       "      <td>43.0</td>\n",
       "      <td>9.0</td>\n",
       "    </tr>\n",
       "    <tr>\n",
       "      <th>4</th>\n",
       "      <td>56.0</td>\n",
       "      <td>5.0</td>\n",
       "    </tr>\n",
       "  </tbody>\n",
       "</table>\n",
       "</div>"
      ],
      "text/plain": [
       "Attrition                   No    Yes\n",
       "YearsSinceLastPromotion              \n",
       "0                        471.0  110.0\n",
       "1                        308.0   49.0\n",
       "2                        132.0   27.0\n",
       "3                         43.0    9.0\n",
       "4                         56.0    5.0"
      ]
     },
     "execution_count": 33,
     "metadata": {},
     "output_type": "execute_result"
    }
   ],
   "source": [
    "#Attrition based on YearsSinceLastPromotion\n",
    "df_yslp = df.loc[:,['YearsSinceLastPromotion','Attrition']]\n",
    "df_yslp_graph = df_yslp.pivot_table(index = 'YearsSinceLastPromotion', columns=['Attrition'], aggfunc = len)\n",
    "df_yslp_graph.head(5)"
   ]
  },
  {
   "cell_type": "code",
   "execution_count": 34,
   "id": "65655282",
   "metadata": {
    "_cell_guid": "39c591b4-f98e-4b9b-b174-46125fd7110e",
    "_uuid": "71c00eec-9297-4448-9265-7a20f8a9d442",
    "collapsed": false,
    "execution": {
     "iopub.execute_input": "2022-05-30T12:50:17.857257Z",
     "iopub.status.busy": "2022-05-30T12:50:17.856774Z",
     "iopub.status.idle": "2022-05-30T12:50:18.208907Z",
     "shell.execute_reply": "2022-05-30T12:50:18.207719Z"
    },
    "jupyter": {
     "outputs_hidden": false
    },
    "papermill": {
     "duration": 0.382326,
     "end_time": "2022-05-30T12:50:18.211413",
     "exception": false,
     "start_time": "2022-05-30T12:50:17.829087",
     "status": "completed"
    },
    "tags": []
   },
   "outputs": [
    {
     "data": {
      "text/plain": [
       "<AxesSubplot:xlabel='YearsSinceLastPromotion', ylabel='count'>"
      ]
     },
     "execution_count": 34,
     "metadata": {},
     "output_type": "execute_result"
    },
    {
     "data": {
      "image/png": "[encoded data removed]",
      "text/plain": [
       "<Figure size 2016x576 with 1 Axes>"
      ]
     },
     "metadata": {
      "needs_background": "light"
     },
     "output_type": "display_data"
    }
   ],
   "source": [
    "df_yslp_graph.plot(kind = 'bar', stacked = True, color = ['blue','orange'], figsize = (28,8), ylabel = 'count')"
   ]
  },
  {
   "cell_type": "code",
   "execution_count": 35,
   "id": "29e882a2",
   "metadata": {
    "_cell_guid": "72c8e875-2fbc-447c-8eff-7349a22c9ce4",
    "_uuid": "a159db7f-d9a6-4feb-b1f0-98ba9bbcf6b0",
    "collapsed": false,
    "execution": {
     "iopub.execute_input": "2022-05-30T12:50:18.268351Z",
     "iopub.status.busy": "2022-05-30T12:50:18.267432Z",
     "iopub.status.idle": "2022-05-30T12:50:18.285843Z",
     "shell.execute_reply": "2022-05-30T12:50:18.285176Z"
    },
    "jupyter": {
     "outputs_hidden": false
    },
    "papermill": {
     "duration": 0.04974,
     "end_time": "2022-05-30T12:50:18.287631",
     "exception": false,
     "start_time": "2022-05-30T12:50:18.237891",
     "status": "completed"
    },
    "tags": []
   },
   "outputs": [
    {
     "data": {
      "text/html": [
       "<div>\n",
       "<style scoped>\n",
       "    .dataframe tbody tr th:only-of-type {\n",
       "        vertical-align: middle;\n",
       "    }\n",
       "\n",
       "    .dataframe tbody tr th {\n",
       "        vertical-align: top;\n",
       "    }\n",
       "\n",
       "    .dataframe thead th {\n",
       "        text-align: right;\n",
       "    }\n",
       "</style>\n",
       "<table border=\"1\" class=\"dataframe\">\n",
       "  <thead>\n",
       "    <tr style=\"text-align: right;\">\n",
       "      <th>Attrition</th>\n",
       "      <th>No</th>\n",
       "      <th>Yes</th>\n",
       "    </tr>\n",
       "    <tr>\n",
       "      <th>YearsWithCurrManager</th>\n",
       "      <th></th>\n",
       "      <th></th>\n",
       "    </tr>\n",
       "  </thead>\n",
       "  <tbody>\n",
       "    <tr>\n",
       "      <th>0</th>\n",
       "      <td>178.0</td>\n",
       "      <td>85.0</td>\n",
       "    </tr>\n",
       "    <tr>\n",
       "      <th>1</th>\n",
       "      <td>65.0</td>\n",
       "      <td>11.0</td>\n",
       "    </tr>\n",
       "    <tr>\n",
       "      <th>2</th>\n",
       "      <td>294.0</td>\n",
       "      <td>50.0</td>\n",
       "    </tr>\n",
       "    <tr>\n",
       "      <th>3</th>\n",
       "      <td>123.0</td>\n",
       "      <td>19.0</td>\n",
       "    </tr>\n",
       "    <tr>\n",
       "      <th>4</th>\n",
       "      <td>87.0</td>\n",
       "      <td>11.0</td>\n",
       "    </tr>\n",
       "  </tbody>\n",
       "</table>\n",
       "</div>"
      ],
      "text/plain": [
       "Attrition                No   Yes\n",
       "YearsWithCurrManager             \n",
       "0                     178.0  85.0\n",
       "1                      65.0  11.0\n",
       "2                     294.0  50.0\n",
       "3                     123.0  19.0\n",
       "4                      87.0  11.0"
      ]
     },
     "execution_count": 35,
     "metadata": {},
     "output_type": "execute_result"
    }
   ],
   "source": [
    "#Attrition based on YearsWithCurrManager\n",
    "df_ywcm = df.loc[:,['YearsWithCurrManager','Attrition']]\n",
    "df_ywcm_graph = df_ywcm.pivot_table(index = 'YearsWithCurrManager', columns=['Attrition'], aggfunc = len)\n",
    "df_ywcm_graph.head(5)"
   ]
  },
  {
   "cell_type": "code",
   "execution_count": 36,
   "id": "bbc12cb8",
   "metadata": {
    "_cell_guid": "5782f5c3-c0d9-4806-b23e-7c48d8a201f2",
    "_uuid": "632655ee-577b-45d8-97ba-e6dbeff7b0a8",
    "collapsed": false,
    "execution": {
     "iopub.execute_input": "2022-05-30T12:50:18.341519Z",
     "iopub.status.busy": "2022-05-30T12:50:18.340806Z",
     "iopub.status.idle": "2022-05-30T12:50:18.709057Z",
     "shell.execute_reply": "2022-05-30T12:50:18.708084Z"
    },
    "jupyter": {
     "outputs_hidden": false
    },
    "papermill": {
     "duration": 0.398135,
     "end_time": "2022-05-30T12:50:18.711366",
     "exception": false,
     "start_time": "2022-05-30T12:50:18.313231",
     "status": "completed"
    },
    "tags": []
   },
   "outputs": [
    {
     "data": {
      "text/plain": [
       "<AxesSubplot:xlabel='YearsWithCurrManager', ylabel='count'>"
      ]
     },
     "execution_count": 36,
     "metadata": {},
     "output_type": "execute_result"
    },
    {
     "data": {
      "image/png": "[encoded data removed]",
      "text/plain": [
       "<Figure size 2016x576 with 1 Axes>"
      ]
     },
     "metadata": {
      "needs_background": "light"
     },
     "output_type": "display_data"
    }
   ],
   "source": [
    "df_ywcm_graph.plot(kind = 'bar', stacked = True, color = ['blue','orange'], figsize = (28,8), ylabel = 'count')"
   ]
  },
  {
   "cell_type": "code",
   "execution_count": 37,
   "id": "ef77111b",
   "metadata": {
    "_cell_guid": "121c30f4-6635-45b2-bcbd-8998f07bdeee",
    "_uuid": "4ac71c28-d750-4fcd-9229-b039d4f28d05",
    "collapsed": false,
    "execution": {
     "iopub.execute_input": "2022-05-30T12:50:18.766827Z",
     "iopub.status.busy": "2022-05-30T12:50:18.766169Z",
     "iopub.status.idle": "2022-05-30T12:50:19.453745Z",
     "shell.execute_reply": "2022-05-30T12:50:19.452872Z"
    },
    "jupyter": {
     "outputs_hidden": false
    },
    "papermill": {
     "duration": 0.718419,
     "end_time": "2022-05-30T12:50:19.455792",
     "exception": false,
     "start_time": "2022-05-30T12:50:18.737373",
     "status": "completed"
    },
    "tags": []
   },
   "outputs": [
    {
     "data": {
      "text/plain": [
       "<AxesSubplot:>"
      ]
     },
     "execution_count": 37,
     "metadata": {},
     "output_type": "execute_result"
    },
    {
     "data": {
      "image/png": "[encoded data removed]",
      "text/plain": [
       "<Figure size 1440x720 with 2 Axes>"
      ]
     },
     "metadata": {
      "needs_background": "light"
     },
     "output_type": "display_data"
    }
   ],
   "source": [
    "plt.figure(figsize=(20,10))\n",
    "sns.heatmap(df.corr())"
   ]
  },
  {
   "cell_type": "markdown",
   "id": "62b6ac8e",
   "metadata": {
    "_cell_guid": "d6f65848-8cf5-48ee-9c9a-84b7d065d344",
    "_uuid": "101799c4-79b4-4d81-a151-cc69e4f62a4e",
    "papermill": {
     "duration": 0.0275,
     "end_time": "2022-05-30T12:50:19.511264",
     "exception": false,
     "start_time": "2022-05-30T12:50:19.483764",
     "status": "completed"
    },
    "tags": []
   },
   "source": [
    "<font size = \"12\">**Building Optimal Model**</font>"
   ]
  },
  {
   "cell_type": "code",
   "execution_count": 38,
   "id": "b2324c05",
   "metadata": {
    "execution": {
     "iopub.execute_input": "2022-05-30T12:50:19.568763Z",
     "iopub.status.busy": "2022-05-30T12:50:19.567998Z",
     "iopub.status.idle": "2022-05-30T12:50:19.736119Z",
     "shell.execute_reply": "2022-05-30T12:50:19.735008Z"
    },
    "papermill": {
     "duration": 0.199469,
     "end_time": "2022-05-30T12:50:19.738522",
     "exception": false,
     "start_time": "2022-05-30T12:50:19.539053",
     "status": "completed"
    },
    "tags": []
   },
   "outputs": [],
   "source": [
    "#Encoding Department, Educationfield and Gender so that it becomes operable onto by the algorithm\n",
    "\n",
    "#Department\n",
    "from sklearn.preprocessing import LabelEncoder\n",
    "encoder = LabelEncoder()\n",
    "X = df['Department'].values\n",
    "df['Department'] = encoder.fit_transform(X)\n",
    "X = X.reshape(-1,1)\n",
    "\n",
    "#EducationField\n",
    "X = df['EducationField'].values\n",
    "df['EducationField'] = encoder.fit_transform(X)\n",
    "X = X.reshape(-1,1)\n",
    "\n",
    "#Gender\n",
    "X = df['Gender'].values\n",
    "df['Gender'] = encoder.fit_transform(X)\n",
    "X = X.reshape(-1,1)\n",
    "\n",
    "#Attrition\n",
    "X = df['Attrition'].values\n",
    "df['Attrition'] = encoder.fit_transform(X)\n",
    "X = X.reshape(-1,1)"
   ]
  },
  {
   "cell_type": "code",
   "execution_count": 39,
   "id": "7dafda2b",
   "metadata": {
    "_cell_guid": "afd1d156-22e1-4a2e-850a-20ff1450d3af",
    "_uuid": "3d83e005-01d6-41a3-929b-2e04f19bc0ec",
    "collapsed": false,
    "execution": {
     "iopub.execute_input": "2022-05-30T12:50:19.795628Z",
     "iopub.status.busy": "2022-05-30T12:50:19.794696Z",
     "iopub.status.idle": "2022-05-30T12:50:19.819805Z",
     "shell.execute_reply": "2022-05-30T12:50:19.818861Z"
    },
    "jupyter": {
     "outputs_hidden": false
    },
    "papermill": {
     "duration": 0.056227,
     "end_time": "2022-05-30T12:50:19.821953",
     "exception": false,
     "start_time": "2022-05-30T12:50:19.765726",
     "status": "completed"
    },
    "tags": []
   },
   "outputs": [
    {
     "data": {
      "text/html": [
       "<div>\n",
       "<style scoped>\n",
       "    .dataframe tbody tr th:only-of-type {\n",
       "        vertical-align: middle;\n",
       "    }\n",
       "\n",
       "    .dataframe tbody tr th {\n",
       "        vertical-align: top;\n",
       "    }\n",
       "\n",
       "    .dataframe thead th {\n",
       "        text-align: right;\n",
       "    }\n",
       "</style>\n",
       "<table border=\"1\" class=\"dataframe\">\n",
       "  <thead>\n",
       "    <tr style=\"text-align: right;\">\n",
       "      <th></th>\n",
       "      <th>Age</th>\n",
       "      <th>Department</th>\n",
       "      <th>Education</th>\n",
       "      <th>EducationField</th>\n",
       "      <th>Gender</th>\n",
       "      <th>NumCompaniesWorked</th>\n",
       "      <th>PercentSalaryHike</th>\n",
       "      <th>PerformanceRating</th>\n",
       "      <th>RelationshipSatisfaction</th>\n",
       "      <th>StockOptionLevel</th>\n",
       "      <th>TotalWorkingYears</th>\n",
       "      <th>TrainingTimesLastYear</th>\n",
       "      <th>WorkLifeBalance</th>\n",
       "      <th>YearsAtCompany</th>\n",
       "      <th>YearsInCurrentRole</th>\n",
       "      <th>YearsSinceLastPromotion</th>\n",
       "      <th>YearsWithCurrManager</th>\n",
       "    </tr>\n",
       "  </thead>\n",
       "  <tbody>\n",
       "    <tr>\n",
       "      <th>0</th>\n",
       "      <td>41</td>\n",
       "      <td>2</td>\n",
       "      <td>2</td>\n",
       "      <td>1</td>\n",
       "      <td>0</td>\n",
       "      <td>8</td>\n",
       "      <td>11</td>\n",
       "      <td>3</td>\n",
       "      <td>1</td>\n",
       "      <td>0</td>\n",
       "      <td>8</td>\n",
       "      <td>0</td>\n",
       "      <td>1</td>\n",
       "      <td>6</td>\n",
       "      <td>4</td>\n",
       "      <td>0</td>\n",
       "      <td>5</td>\n",
       "    </tr>\n",
       "    <tr>\n",
       "      <th>1</th>\n",
       "      <td>49</td>\n",
       "      <td>1</td>\n",
       "      <td>1</td>\n",
       "      <td>1</td>\n",
       "      <td>1</td>\n",
       "      <td>1</td>\n",
       "      <td>23</td>\n",
       "      <td>4</td>\n",
       "      <td>4</td>\n",
       "      <td>1</td>\n",
       "      <td>10</td>\n",
       "      <td>3</td>\n",
       "      <td>3</td>\n",
       "      <td>10</td>\n",
       "      <td>7</td>\n",
       "      <td>1</td>\n",
       "      <td>7</td>\n",
       "    </tr>\n",
       "    <tr>\n",
       "      <th>2</th>\n",
       "      <td>37</td>\n",
       "      <td>1</td>\n",
       "      <td>2</td>\n",
       "      <td>4</td>\n",
       "      <td>1</td>\n",
       "      <td>6</td>\n",
       "      <td>15</td>\n",
       "      <td>3</td>\n",
       "      <td>2</td>\n",
       "      <td>0</td>\n",
       "      <td>7</td>\n",
       "      <td>3</td>\n",
       "      <td>3</td>\n",
       "      <td>0</td>\n",
       "      <td>0</td>\n",
       "      <td>0</td>\n",
       "      <td>0</td>\n",
       "    </tr>\n",
       "    <tr>\n",
       "      <th>3</th>\n",
       "      <td>33</td>\n",
       "      <td>1</td>\n",
       "      <td>4</td>\n",
       "      <td>1</td>\n",
       "      <td>0</td>\n",
       "      <td>1</td>\n",
       "      <td>11</td>\n",
       "      <td>3</td>\n",
       "      <td>3</td>\n",
       "      <td>0</td>\n",
       "      <td>8</td>\n",
       "      <td>3</td>\n",
       "      <td>3</td>\n",
       "      <td>8</td>\n",
       "      <td>7</td>\n",
       "      <td>3</td>\n",
       "      <td>0</td>\n",
       "    </tr>\n",
       "    <tr>\n",
       "      <th>4</th>\n",
       "      <td>27</td>\n",
       "      <td>1</td>\n",
       "      <td>1</td>\n",
       "      <td>3</td>\n",
       "      <td>1</td>\n",
       "      <td>9</td>\n",
       "      <td>12</td>\n",
       "      <td>3</td>\n",
       "      <td>4</td>\n",
       "      <td>1</td>\n",
       "      <td>6</td>\n",
       "      <td>3</td>\n",
       "      <td>3</td>\n",
       "      <td>2</td>\n",
       "      <td>2</td>\n",
       "      <td>2</td>\n",
       "      <td>2</td>\n",
       "    </tr>\n",
       "    <tr>\n",
       "      <th>...</th>\n",
       "      <td>...</td>\n",
       "      <td>...</td>\n",
       "      <td>...</td>\n",
       "      <td>...</td>\n",
       "      <td>...</td>\n",
       "      <td>...</td>\n",
       "      <td>...</td>\n",
       "      <td>...</td>\n",
       "      <td>...</td>\n",
       "      <td>...</td>\n",
       "      <td>...</td>\n",
       "      <td>...</td>\n",
       "      <td>...</td>\n",
       "      <td>...</td>\n",
       "      <td>...</td>\n",
       "      <td>...</td>\n",
       "      <td>...</td>\n",
       "    </tr>\n",
       "    <tr>\n",
       "      <th>1465</th>\n",
       "      <td>36</td>\n",
       "      <td>1</td>\n",
       "      <td>2</td>\n",
       "      <td>3</td>\n",
       "      <td>1</td>\n",
       "      <td>4</td>\n",
       "      <td>17</td>\n",
       "      <td>3</td>\n",
       "      <td>3</td>\n",
       "      <td>1</td>\n",
       "      <td>17</td>\n",
       "      <td>3</td>\n",
       "      <td>3</td>\n",
       "      <td>5</td>\n",
       "      <td>2</td>\n",
       "      <td>0</td>\n",
       "      <td>3</td>\n",
       "    </tr>\n",
       "    <tr>\n",
       "      <th>1466</th>\n",
       "      <td>39</td>\n",
       "      <td>1</td>\n",
       "      <td>1</td>\n",
       "      <td>3</td>\n",
       "      <td>1</td>\n",
       "      <td>4</td>\n",
       "      <td>15</td>\n",
       "      <td>3</td>\n",
       "      <td>1</td>\n",
       "      <td>1</td>\n",
       "      <td>9</td>\n",
       "      <td>5</td>\n",
       "      <td>3</td>\n",
       "      <td>7</td>\n",
       "      <td>7</td>\n",
       "      <td>1</td>\n",
       "      <td>7</td>\n",
       "    </tr>\n",
       "    <tr>\n",
       "      <th>1467</th>\n",
       "      <td>27</td>\n",
       "      <td>1</td>\n",
       "      <td>3</td>\n",
       "      <td>1</td>\n",
       "      <td>1</td>\n",
       "      <td>1</td>\n",
       "      <td>20</td>\n",
       "      <td>4</td>\n",
       "      <td>2</td>\n",
       "      <td>1</td>\n",
       "      <td>6</td>\n",
       "      <td>0</td>\n",
       "      <td>3</td>\n",
       "      <td>6</td>\n",
       "      <td>2</td>\n",
       "      <td>0</td>\n",
       "      <td>3</td>\n",
       "    </tr>\n",
       "    <tr>\n",
       "      <th>1468</th>\n",
       "      <td>49</td>\n",
       "      <td>2</td>\n",
       "      <td>3</td>\n",
       "      <td>3</td>\n",
       "      <td>1</td>\n",
       "      <td>2</td>\n",
       "      <td>14</td>\n",
       "      <td>3</td>\n",
       "      <td>4</td>\n",
       "      <td>0</td>\n",
       "      <td>17</td>\n",
       "      <td>3</td>\n",
       "      <td>2</td>\n",
       "      <td>9</td>\n",
       "      <td>6</td>\n",
       "      <td>0</td>\n",
       "      <td>8</td>\n",
       "    </tr>\n",
       "    <tr>\n",
       "      <th>1469</th>\n",
       "      <td>34</td>\n",
       "      <td>1</td>\n",
       "      <td>3</td>\n",
       "      <td>3</td>\n",
       "      <td>1</td>\n",
       "      <td>2</td>\n",
       "      <td>12</td>\n",
       "      <td>3</td>\n",
       "      <td>1</td>\n",
       "      <td>0</td>\n",
       "      <td>6</td>\n",
       "      <td>3</td>\n",
       "      <td>4</td>\n",
       "      <td>4</td>\n",
       "      <td>3</td>\n",
       "      <td>1</td>\n",
       "      <td>2</td>\n",
       "    </tr>\n",
       "  </tbody>\n",
       "</table>\n",
       "<p>1470 rows × 17 columns</p>\n",
       "</div>"
      ],
      "text/plain": [
       "      Age  Department  Education  EducationField  Gender  NumCompaniesWorked  \\\n",
       "0      41           2          2               1       0                   8   \n",
       "1      49           1          1               1       1                   1   \n",
       "2      37           1          2               4       1                   6   \n",
       "3      33           1          4               1       0                   1   \n",
       "4      27           1          1               3       1                   9   \n",
       "...   ...         ...        ...             ...     ...                 ...   \n",
       "1465   36           1          2               3       1                   4   \n",
       "1466   39           1          1               3       1                   4   \n",
       "1467   27           1          3               1       1                   1   \n",
       "1468   49           2          3               3       1                   2   \n",
       "1469   34           1          3               3       1                   2   \n",
       "\n",
       "      PercentSalaryHike  PerformanceRating  RelationshipSatisfaction  \\\n",
       "0                    11                  3                         1   \n",
       "1                    23                  4                         4   \n",
       "2                    15                  3                         2   \n",
       "3                    11                  3                         3   \n",
       "4                    12                  3                         4   \n",
       "...                 ...                ...                       ...   \n",
       "1465                 17                  3                         3   \n",
       "1466                 15                  3                         1   \n",
       "1467                 20                  4                         2   \n",
       "1468                 14                  3                         4   \n",
       "1469                 12                  3                         1   \n",
       "\n",
       "      StockOptionLevel  TotalWorkingYears  TrainingTimesLastYear  \\\n",
       "0                    0                  8                      0   \n",
       "1                    1                 10                      3   \n",
       "2                    0                  7                      3   \n",
       "3                    0                  8                      3   \n",
       "4                    1                  6                      3   \n",
       "...                ...                ...                    ...   \n",
       "1465                 1                 17                      3   \n",
       "1466                 1                  9                      5   \n",
       "1467                 1                  6                      0   \n",
       "1468                 0                 17                      3   \n",
       "1469                 0                  6                      3   \n",
       "\n",
       "      WorkLifeBalance  YearsAtCompany  YearsInCurrentRole  \\\n",
       "0                   1               6                   4   \n",
       "1                   3              10                   7   \n",
       "2                   3               0                   0   \n",
       "3                   3               8                   7   \n",
       "4                   3               2                   2   \n",
       "...               ...             ...                 ...   \n",
       "1465                3               5                   2   \n",
       "1466                3               7                   7   \n",
       "1467                3               6                   2   \n",
       "1468                2               9                   6   \n",
       "1469                4               4                   3   \n",
       "\n",
       "      YearsSinceLastPromotion  YearsWithCurrManager  \n",
       "0                           0                     5  \n",
       "1                           1                     7  \n",
       "2                           0                     0  \n",
       "3                           3                     0  \n",
       "4                           2                     2  \n",
       "...                       ...                   ...  \n",
       "1465                        0                     3  \n",
       "1466                        1                     7  \n",
       "1467                        0                     3  \n",
       "1468                        0                     8  \n",
       "1469                        1                     2  \n",
       "\n",
       "[1470 rows x 17 columns]"
      ]
     },
     "execution_count": 39,
     "metadata": {},
     "output_type": "execute_result"
    }
   ],
   "source": [
    "#JobSatisfaction, EnvironmentSatisfaction, OverTime are not considered in 'x' as they had little to no effect towards attrition as seen in their respective graphs.\n",
    "x = df[['Age', 'Department', 'Education', 'EducationField', 'Gender', 'NumCompaniesWorked', 'PercentSalaryHike', 'PerformanceRating', 'RelationshipSatisfaction', 'StockOptionLevel', 'TotalWorkingYears', 'TrainingTimesLastYear', 'WorkLifeBalance', 'YearsAtCompany', 'YearsInCurrentRole', 'YearsSinceLastPromotion', 'YearsWithCurrManager']]\n",
    "y = df[['Attrition']]\n",
    "x"
   ]
  },
  {
   "cell_type": "code",
   "execution_count": 40,
   "id": "3b276d26",
   "metadata": {
    "execution": {
     "iopub.execute_input": "2022-05-30T12:50:19.880386Z",
     "iopub.status.busy": "2022-05-30T12:50:19.879687Z",
     "iopub.status.idle": "2022-05-30T12:50:19.890661Z",
     "shell.execute_reply": "2022-05-30T12:50:19.889690Z"
    },
    "papermill": {
     "duration": 0.042756,
     "end_time": "2022-05-30T12:50:19.892996",
     "exception": false,
     "start_time": "2022-05-30T12:50:19.850240",
     "status": "completed"
    },
    "tags": []
   },
   "outputs": [
    {
     "data": {
      "text/html": [
       "<div>\n",
       "<style scoped>\n",
       "    .dataframe tbody tr th:only-of-type {\n",
       "        vertical-align: middle;\n",
       "    }\n",
       "\n",
       "    .dataframe tbody tr th {\n",
       "        vertical-align: top;\n",
       "    }\n",
       "\n",
       "    .dataframe thead th {\n",
       "        text-align: right;\n",
       "    }\n",
       "</style>\n",
       "<table border=\"1\" class=\"dataframe\">\n",
       "  <thead>\n",
       "    <tr style=\"text-align: right;\">\n",
       "      <th></th>\n",
       "      <th>Attrition</th>\n",
       "    </tr>\n",
       "  </thead>\n",
       "  <tbody>\n",
       "    <tr>\n",
       "      <th>0</th>\n",
       "      <td>1</td>\n",
       "    </tr>\n",
       "    <tr>\n",
       "      <th>1</th>\n",
       "      <td>0</td>\n",
       "    </tr>\n",
       "    <tr>\n",
       "      <th>2</th>\n",
       "      <td>1</td>\n",
       "    </tr>\n",
       "    <tr>\n",
       "      <th>3</th>\n",
       "      <td>0</td>\n",
       "    </tr>\n",
       "    <tr>\n",
       "      <th>4</th>\n",
       "      <td>0</td>\n",
       "    </tr>\n",
       "    <tr>\n",
       "      <th>...</th>\n",
       "      <td>...</td>\n",
       "    </tr>\n",
       "    <tr>\n",
       "      <th>1465</th>\n",
       "      <td>0</td>\n",
       "    </tr>\n",
       "    <tr>\n",
       "      <th>1466</th>\n",
       "      <td>0</td>\n",
       "    </tr>\n",
       "    <tr>\n",
       "      <th>1467</th>\n",
       "      <td>0</td>\n",
       "    </tr>\n",
       "    <tr>\n",
       "      <th>1468</th>\n",
       "      <td>0</td>\n",
       "    </tr>\n",
       "    <tr>\n",
       "      <th>1469</th>\n",
       "      <td>0</td>\n",
       "    </tr>\n",
       "  </tbody>\n",
       "</table>\n",
       "<p>1470 rows × 1 columns</p>\n",
       "</div>"
      ],
      "text/plain": [
       "      Attrition\n",
       "0             1\n",
       "1             0\n",
       "2             1\n",
       "3             0\n",
       "4             0\n",
       "...         ...\n",
       "1465          0\n",
       "1466          0\n",
       "1467          0\n",
       "1468          0\n",
       "1469          0\n",
       "\n",
       "[1470 rows x 1 columns]"
      ]
     },
     "execution_count": 40,
     "metadata": {},
     "output_type": "execute_result"
    }
   ],
   "source": [
    "y"
   ]
  },
  {
   "cell_type": "code",
   "execution_count": 41,
   "id": "d12aaf78",
   "metadata": {
    "execution": {
     "iopub.execute_input": "2022-05-30T12:50:19.953034Z",
     "iopub.status.busy": "2022-05-30T12:50:19.952600Z",
     "iopub.status.idle": "2022-05-30T12:50:20.031575Z",
     "shell.execute_reply": "2022-05-30T12:50:20.030456Z"
    },
    "papermill": {
     "duration": 0.112325,
     "end_time": "2022-05-30T12:50:20.034040",
     "exception": false,
     "start_time": "2022-05-30T12:50:19.921715",
     "status": "completed"
    },
    "tags": []
   },
   "outputs": [],
   "source": [
    "#Splittiing the x and y into train and test \n",
    "from sklearn.model_selection import train_test_split\n",
    "X_train, X_test, Y_train, Y_test = train_test_split(x, y, test_size=0.25)"
   ]
  },
  {
   "cell_type": "code",
   "execution_count": 42,
   "id": "0878c6a0",
   "metadata": {
    "execution": {
     "iopub.execute_input": "2022-05-30T12:50:20.094658Z",
     "iopub.status.busy": "2022-05-30T12:50:20.094252Z",
     "iopub.status.idle": "2022-05-30T12:50:20.308231Z",
     "shell.execute_reply": "2022-05-30T12:50:20.307164Z"
    },
    "papermill": {
     "duration": 0.247873,
     "end_time": "2022-05-30T12:50:20.310996",
     "exception": false,
     "start_time": "2022-05-30T12:50:20.063123",
     "status": "completed"
    },
    "tags": []
   },
   "outputs": [
    {
     "data": {
      "image/png": "[encoded data removed]",
      "text/plain": [
       "<Figure size 432x288 with 1 Axes>"
      ]
     },
     "metadata": {
      "needs_background": "light"
     },
     "output_type": "display_data"
    }
   ],
   "source": [
    "normal = x['Age']\n",
    "ax = normal.plot.kde()"
   ]
  },
  {
   "cell_type": "code",
   "execution_count": 43,
   "id": "2868af91",
   "metadata": {
    "execution": {
     "iopub.execute_input": "2022-05-30T12:50:20.374063Z",
     "iopub.status.busy": "2022-05-30T12:50:20.373658Z",
     "iopub.status.idle": "2022-05-30T12:50:20.583802Z",
     "shell.execute_reply": "2022-05-30T12:50:20.582843Z"
    },
    "papermill": {
     "duration": 0.243158,
     "end_time": "2022-05-30T12:50:20.585977",
     "exception": false,
     "start_time": "2022-05-30T12:50:20.342819",
     "status": "completed"
    },
    "tags": []
   },
   "outputs": [
    {
     "data": {
      "image/png": "[encoded data removed]",
      "text/plain": [
       "<Figure size 432x288 with 1 Axes>"
      ]
     },
     "metadata": {
      "needs_background": "light"
     },
     "output_type": "display_data"
    }
   ],
   "source": [
    "normal = x['PercentSalaryHike']\n",
    "ax = normal.plot.kde()"
   ]
  },
  {
   "cell_type": "code",
   "execution_count": 44,
   "id": "15f6400e",
   "metadata": {
    "execution": {
     "iopub.execute_input": "2022-05-30T12:50:20.647867Z",
     "iopub.status.busy": "2022-05-30T12:50:20.647512Z",
     "iopub.status.idle": "2022-05-30T12:50:20.875807Z",
     "shell.execute_reply": "2022-05-30T12:50:20.874549Z"
    },
    "papermill": {
     "duration": 0.262418,
     "end_time": "2022-05-30T12:50:20.878048",
     "exception": false,
     "start_time": "2022-05-30T12:50:20.615630",
     "status": "completed"
    },
    "tags": []
   },
   "outputs": [
    {
     "data": {
      "image/png": "[encoded data removed]",
      "text/plain": [
       "<Figure size 432x288 with 1 Axes>"
      ]
     },
     "metadata": {
      "needs_background": "light"
     },
     "output_type": "display_data"
    }
   ],
   "source": [
    "normal = x['TotalWorkingYears']\n",
    "ax = normal.plot.kde()"
   ]
  },
  {
   "cell_type": "markdown",
   "id": "bdd09552",
   "metadata": {
    "papermill": {
     "duration": 0.029168,
     "end_time": "2022-05-30T12:50:20.936229",
     "exception": false,
     "start_time": "2022-05-30T12:50:20.907061",
     "status": "completed"
    },
    "tags": []
   },
   "source": [
    "<font size = \"4\">***Since most of the columns in the DataFrame are negatively skewed we cannot efficiently use StandarsScalar or MinMaxScalar***</font><br>\n",
    "<font size = \"4\">***As most of the values in the DataFrame are in the range of 0-9 we need to scale all the other columns to be in that range***</font>\n",
    "<font size = \"4\">***The columns that need to be scaled are:-***</font><br>\n",
    "* <font size = \"4\">***Age***</font>\n",
    "* <font size = \"4\">***PercentSalaryHike***</font>\n",
    "* <font size = \"4\">***TotalWorkingYears***</font>\n",
    "* <font size = \"4\">***YearsAtCompan***</font>\n",
    "* <font size = \"4\">***YearsInCurrentRole***</font>\n",
    "* <font size = \"4\">***YearsSinceLastPromotion***</font>\n",
    "* <font size = \"4\">***YearsWithCurrManager***</font>"
   ]
  },
  {
   "cell_type": "code",
   "execution_count": 45,
   "id": "e1d70322",
   "metadata": {
    "execution": {
     "iopub.execute_input": "2022-05-30T12:50:20.999082Z",
     "iopub.status.busy": "2022-05-30T12:50:20.998251Z",
     "iopub.status.idle": "2022-05-30T12:50:21.013857Z",
     "shell.execute_reply": "2022-05-30T12:50:21.013061Z"
    },
    "papermill": {
     "duration": 0.049129,
     "end_time": "2022-05-30T12:50:21.016141",
     "exception": false,
     "start_time": "2022-05-30T12:50:20.967012",
     "status": "completed"
    },
    "tags": []
   },
   "outputs": [],
   "source": [
    "#Using RobustScaler\n",
    "from sklearn.preprocessing import RobustScaler\n",
    "scaler = RobustScaler()\n",
    "X_train_sc = scaler.fit_transform(X_train)\n",
    "X_test_sc = scaler.transform(X_test)"
   ]
  },
  {
   "cell_type": "markdown",
   "id": "4ca2a4e0",
   "metadata": {
    "papermill": {
     "duration": 0.029939,
     "end_time": "2022-05-30T12:50:21.075226",
     "exception": false,
     "start_time": "2022-05-30T12:50:21.045287",
     "status": "completed"
    },
    "tags": []
   },
   "source": [
    "<font size = \"5\">**Since we're tying to do binary classification we will use Logistic Regression and Support Vector Machine and compare their accuracies**</font>"
   ]
  },
  {
   "cell_type": "code",
   "execution_count": 46,
   "id": "a1be83f8",
   "metadata": {
    "execution": {
     "iopub.execute_input": "2022-05-30T12:50:21.135469Z",
     "iopub.status.busy": "2022-05-30T12:50:21.134520Z",
     "iopub.status.idle": "2022-05-30T12:50:21.545881Z",
     "shell.execute_reply": "2022-05-30T12:50:21.545001Z"
    },
    "papermill": {
     "duration": 0.443637,
     "end_time": "2022-05-30T12:50:21.547985",
     "exception": false,
     "start_time": "2022-05-30T12:50:21.104348",
     "status": "completed"
    },
    "tags": []
   },
   "outputs": [
    {
     "name": "stdout",
     "output_type": "stream",
     "text": [
      "accuracy= 82.6086956521739 %\n",
      "              precision    recall  f1-score   support\n",
      "\n",
      "         Yes       0.83      1.00      0.90       302\n",
      "          No       1.00      0.03      0.06        66\n",
      "\n",
      "    accuracy                           0.83       368\n",
      "   macro avg       0.91      0.52      0.48       368\n",
      "weighted avg       0.86      0.83      0.75       368\n",
      "\n"
     ]
    },
    {
     "data": {
      "text/plain": [
       "<sklearn.metrics._plot.confusion_matrix.ConfusionMatrixDisplay at 0x7fc0bc567e50>"
      ]
     },
     "execution_count": 46,
     "metadata": {},
     "output_type": "execute_result"
    },
    {
     "data": {
      "image/png": "[encoded data removed]",
      "text/plain": [
       "<Figure size 576x432 with 2 Axes>"
      ]
     },
     "metadata": {
      "needs_background": "light"
     },
     "output_type": "display_data"
    }
   ],
   "source": [
    "#Using logistic regression to predict Attretion\n",
    "import warnings\n",
    "from sklearn.linear_model import LogisticRegression\n",
    "from sklearn.metrics import classification_report ,confusion_matrix ,ConfusionMatrixDisplay\n",
    "warnings.filterwarnings('ignore')\n",
    "lgr = LogisticRegression()\n",
    "lgr.fit(X_train_sc , Y_train)\n",
    "\n",
    "prediction = lgr.predict(X_test_sc)\n",
    "\n",
    "from sklearn import metrics\n",
    "from sklearn.metrics import accuracy_score\n",
    "\n",
    "accuracy = accuracy_score(Y_test,prediction)*100\n",
    "print(\"accuracy=\",accuracy,\"%\")\n",
    "\n",
    "target_names = ['Yes','No']\n",
    "print(classification_report(Y_test, prediction.reshape(-1,1), target_names=target_names))\n",
    "\n",
    "\n",
    "cm = confusion_matrix(Y_test, prediction.reshape(-1,1), normalize='true')\n",
    "disp = ConfusionMatrixDisplay(confusion_matrix=cm, display_labels=target_names)\n",
    "fig, ax = plt.subplots(figsize=(8,6))\n",
    "disp.plot(ax=ax,cmap='Blues')"
   ]
  },
  {
   "cell_type": "code",
   "execution_count": 47,
   "id": "299badc0",
   "metadata": {
    "execution": {
     "iopub.execute_input": "2022-05-30T12:50:21.610504Z",
     "iopub.status.busy": "2022-05-30T12:50:21.610121Z",
     "iopub.status.idle": "2022-05-30T12:50:21.668583Z",
     "shell.execute_reply": "2022-05-30T12:50:21.667356Z"
    },
    "papermill": {
     "duration": 0.095182,
     "end_time": "2022-05-30T12:50:21.673157",
     "exception": false,
     "start_time": "2022-05-30T12:50:21.577975",
     "status": "completed"
    },
    "tags": []
   },
   "outputs": [
    {
     "name": "stdout",
     "output_type": "stream",
     "text": [
      "82.06521739130434 %\n"
     ]
    }
   ],
   "source": [
    "# Using Support Vector MAchine to predict Attretion\n",
    "from sklearn.svm import SVC\n",
    "warnings.filterwarnings('ignore')\n",
    "svm = SVC()\n",
    "svm.fit(X_train_sc , Y_train)\n",
    "\n",
    "prediction = svm.predict(X_test_sc)\n",
    "\n",
    "accuracy = accuracy_score(Y_test,prediction)*100\n",
    "print(accuracy,\"%\")"
   ]
  },
  {
   "cell_type": "markdown",
   "id": "dae1e850",
   "metadata": {
    "papermill": {
     "duration": 0.029587,
     "end_time": "2022-05-30T12:50:21.735029",
     "exception": false,
     "start_time": "2022-05-30T12:50:21.705442",
     "status": "completed"
    },
    "tags": []
   },
   "source": [
    "<font size = \"5\"> ***We will use Logictic Regression as it gives a higher accuracy***</font>"
   ]
  },
  {
   "cell_type": "code",
   "execution_count": null,
   "id": "e5ebf36e",
   "metadata": {
    "papermill": {
     "duration": 0.029853,
     "end_time": "2022-05-30T12:50:21.794408",
     "exception": false,
     "start_time": "2022-05-30T12:50:21.764555",
     "status": "completed"
    },
    "tags": []
   },
   "outputs": [],
   "source": []
  }
 ],
 "metadata": {
  "kernelspec": {
   "display_name": "Python 3",
   "language": "python",
   "name": "python3"
  },
  "language_info": {
   "codemirror_mode": {
    "name": "ipython",
    "version": 3
   },
   "file_extension": ".py",
   "mimetype": "text/x-python",
   "name": "python",
   "nbconvert_exporter": "python",
   "pygments_lexer": "ipython3",
   "version": "3.7.12"
  },
  "papermill": {
   "default_parameters": {},
   "duration": 27.000831,
   "end_time": "2022-05-30T12:50:22.848499",
   "environment_variables": {},
   "exception": null,
   "input_path": "__notebook__.ipynb",
   "output_path": "__notebook__.ipynb",
   "parameters": {},
   "start_time": "2022-05-30T12:49:55.847668",
   "version": "2.3.4"
  }
 },
 "nbformat": 4,
 "nbformat_minor": 5
}
